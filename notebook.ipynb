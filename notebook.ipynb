{
 "nbformat": 4,
 "nbformat_minor": 0,
 "metadata": {
  "accelerator": "GPU",
  "colab": {
   "name": "ML with EyeBrow",
   "provenance": [],
   "collapsed_sections": [],
   "machine_shape": "hm"
  },
  "kernelspec": {
   "display_name": "Python 3",
   "name": "python3"
  },
  "pycharm": {
   "stem_cell": {
    "cell_type": "raw",
    "source": [],
    "metadata": {
     "collapsed": false
    }
   }
  }
 },
 "cells": [
  {
   "cell_type": "code",
   "metadata": {
    "colab": {
     "base_uri": "https://localhost:8080/"
    },
    "id": "F5MaxQAo_cJh",
    "outputId": "b4c3dd54-98c4-40c2-ce04-02b4ede787e6"
   },
   "source": [
    "from google.colab import drive\n",
    "drive.mount('/content/drive', force_remount=True)"
   ],
   "execution_count": null,
   "outputs": [
    {
     "output_type": "stream",
     "text": [
      "Mounted at /content/drive\n"
     ],
     "name": "stdout"
    }
   ]
  },
  {
   "cell_type": "code",
   "metadata": {
    "colab": {
     "base_uri": "https://localhost:8080/"
    },
    "id": "CvynVHQ_Yjpv",
    "outputId": "11dc947c-2f7c-4459-d5b4-ff56c810adf8"
   },
   "source": [
    "!git clone https://github.com/csaw-hackml/CSAW-HackML-2020.git\n",
    "%cd /content/CSAW-HackML-2020/\n",
    "DATA_PATH = '../drive/MyDrive/data'\n",
    "GOOD_MODEL_PATH = '/content/drive/MyDrive/VAE_model/'"
   ],
   "execution_count": null,
   "outputs": [
    {
     "output_type": "stream",
     "text": [
      "fatal: destination path 'CSAW-HackML-2020' already exists and is not an empty directory.\n",
      "/content/CSAW-HackML-2020\n"
     ],
     "name": "stdout"
    }
   ]
  },
  {
   "cell_type": "markdown",
   "metadata": {
    "id": "-vJS5YtZZLWd"
   },
   "source": [
    "# Data Definition"
   ]
  },
  {
   "cell_type": "code",
   "metadata": {
    "id": "ABu2jvyjZP-G"
   },
   "source": [
    "import h5py\n",
    "import numpy as np\n",
    "from os.path import join\n",
    "import keras\n",
    "from architecture import Net\n",
    "import tensorflow as tf\n",
    "import collections\n",
    "from collections import Counter\n"
   ],
   "execution_count": null,
   "outputs": []
  },
  {
   "cell_type": "code",
   "metadata": {
    "id": "clH96PGFiWWn"
   },
   "source": [
    "def data_loader(filepath):\n",
    "    data = h5py.File(filepath, 'r')\n",
    "    x_data = np.array(data['data'])\n",
    "    y_data = np.array(data['label'])\n",
    "    x_data = x_data.transpose((0,2,3,1))\n",
    "\n",
    "    return x_data, y_data"
   ],
   "execution_count": null,
   "outputs": []
  },
  {
   "cell_type": "code",
   "metadata": {
    "colab": {
     "base_uri": "https://localhost:8080/"
    },
    "id": "4PsSZbfYbb0x",
    "outputId": "7681aa3e-f4cd-4858-cf08-0973f25ebe0c"
   },
   "source": [
    "data_validation, labels_validation = data_loader(join(DATA_PATH, 'clean_validation_data.h5'))\n",
    "data_test, labels_test = data_loader(join(DATA_PATH, 'clean_test_data.h5'))\n",
    "data_poisoned, labels_poisoned = data_loader(join(DATA_PATH, 'sunglasses_poisoned_data.h5'))\n",
    "data_anonymous, labels_anonymous = data_loader(join(DATA_PATH, 'anonymous_1_poisoned_data.h5'))\n",
    "\n",
    "## Multi Trigger\n",
    "data_poisoned_eyebrows, labels_poisoned_eyebrows = data_loader(join(DATA_PATH, 'Multi-trigger Multi-target/eyebrows_poisoned_data.h5'))\n",
    "data_poisoned_lipstick, labels_poisoned_lipstick = data_loader(join(DATA_PATH, 'Multi-trigger Multi-target/lipstick_poisoned_data.h5'))\n",
    "data_poisoned_sunglasses, labels_poisoned_sunglasses = data_loader(join(DATA_PATH, 'Multi-trigger Multi-target/sunglasses_poisoned_data.h5'))\n",
    "\n",
    "\n",
    "\n",
    "print('Validation Shape:', data_validation.shape)\n",
    "print('Validation Labels:', labels_validation.shape)\n",
    "print('Test shape:', data_test.shape)\n"
   ],
   "execution_count": null,
   "outputs": [
    {
     "output_type": "stream",
     "text": [
      "Validation Shape: (11547, 55, 47, 3)\n",
      "Validation Labels: (11547,)\n",
      "Test shape: (12830, 55, 47, 3)\n"
     ],
     "name": "stdout"
    }
   ]
  },
  {
   "cell_type": "markdown",
   "metadata": {
    "id": "wh_oa2MpesXK"
   },
   "source": [
    "### Normalization"
   ]
  },
  {
   "cell_type": "code",
   "metadata": {
    "id": "gU7AbkXy6z6n"
   },
   "source": [
    "data_validation = data_validation/255\n",
    "data_test = data_test/255\n",
    "data_poisoned = data_poisoned/255\n",
    "data_poisoned_eyebrows = data_poisoned_eyebrows/255\n",
    "data_poisoned_lipstick = data_poisoned_lipstick/255\n",
    "data_poisoned_sunglasses = data_poisoned_sunglasses/255\n",
    "data_anonymous = data_anonymous/255"
   ],
   "execution_count": null,
   "outputs": []
  },
  {
   "cell_type": "markdown",
   "metadata": {
    "id": "sRIxC255m5xf"
   },
   "source": [
    "Sample Clean Image"
   ]
  },
  {
   "cell_type": "code",
   "metadata": {
    "colab": {
     "base_uri": "https://localhost:8080/",
     "height": 267
    },
    "id": "9goEofXratbs",
    "outputId": "725b9186-9785-41b5-d753-0ebaae76e61c"
   },
   "source": [
    "import matplotlib.pyplot as plt\n",
    "plt.imshow(data_test[100]);"
   ],
   "execution_count": null,
   "outputs": [
    {
     "output_type": "display_data",
     "data": {
      "image/png": "[encoded data removed]",
      "text/plain": [
       "<Figure size 432x288 with 1 Axes>"
      ]
     },
     "metadata": {
      "tags": [],
      "needs_background": "light"
     }
    }
   ]
  },
  {
   "cell_type": "markdown",
   "metadata": {
    "id": "UxIEgdrFm7xR"
   },
   "source": [
    "Sample Poisoned Image\n"
   ]
  },
  {
   "cell_type": "code",
   "metadata": {
    "colab": {
     "base_uri": "https://localhost:8080/",
     "height": 267
    },
    "id": "f0cWEbH2cG5T",
    "outputId": "bebba299-8892-4fe0-c443-58dd4d4624a0"
   },
   "source": [
    "temp = data_poisoned[100]\n",
    "plt.imshow(temp);"
   ],
   "execution_count": null,
   "outputs": [
    {
     "output_type": "display_data",
     "data": {
      "image/png": "[encoded data removed]",
      "text/plain": [
       "<Figure size 432x288 with 1 Axes>"
      ]
     },
     "metadata": {
      "tags": [],
      "needs_background": "light"
     }
    }
   ]
  },
  {
   "cell_type": "markdown",
   "metadata": {
    "id": "QWeEbWt8mfmI"
   },
   "source": [
    "#METHOD - 1 - VAE Model\n",
    "\n",
    "\n",
    "\n"
   ]
  },
  {
   "cell_type": "code",
   "metadata": {
    "id": "_LWIHxiElTgi"
   },
   "source": [
    "latent_space_dim = 1000\n",
    "img_size = 55\n",
    "shape = (56, 48, 3)\n",
    "# Encoder\n",
    "x = tf.keras.layers.Input(shape=shape, name=\"encoder_input\")\n",
    "\n",
    "encoder_conv_layer1 = tf.keras.layers.Conv2D(filters=3, kernel_size=(3, 3), padding=\"same\", strides=1, name=\"encoder_conv_1\")(x)\n",
    "encoder_norm_layer1 = tf.keras.layers.BatchNormalization(name=\"encoder_norm_1\")(encoder_conv_layer1)\n",
    "encoder_activ_layer1 = tf.keras.layers.LeakyReLU(name=\"encoder_leakyrelu_1\")(encoder_norm_layer1)\n",
    "\n",
    "encoder_conv_layer2 = tf.keras.layers.Conv2D(filters=32, kernel_size=(3,3), padding=\"same\", strides=1, name=\"encoder_conv_2\")(encoder_activ_layer1)\n",
    "encoder_norm_layer2 = tf.keras.layers.BatchNormalization(name=\"encoder_norm_2\")(encoder_conv_layer2)\n",
    "encoder_activ_layer2 = tf.keras.layers.LeakyReLU(name=\"encoder_activ_layer_2\")(encoder_norm_layer2)\n",
    "\n",
    "encoder_conv_layer3 = tf.keras.layers.Conv2D(filters=64, kernel_size=(3,3), padding=\"same\", strides=2, name=\"encoder_conv_3\")(encoder_activ_layer2)\n",
    "encoder_norm_layer3 = tf.keras.layers.BatchNormalization(name=\"encoder_norm_3\")(encoder_conv_layer3)\n",
    "encoder_activ_layer3 = tf.keras.layers.LeakyReLU(name=\"encoder_activ_layer_3\")(encoder_norm_layer3)\n",
    "\n",
    "encoder_conv_layer4 = tf.keras.layers.Conv2D(filters=64, kernel_size=(3,3), padding=\"same\", strides=2, name=\"encoder_conv_4\")(encoder_activ_layer3)\n",
    "encoder_norm_layer4 = tf.keras.layers.BatchNormalization(name=\"encoder_norm_4\")(encoder_conv_layer4)\n",
    "encoder_activ_layer4 = tf.keras.layers.LeakyReLU(name=\"encoder_activ_layer_4\")(encoder_norm_layer4)\n",
    "\n",
    "encoder_conv_layer5 = tf.keras.layers.Conv2D(filters=64, kernel_size=(3,3), padding=\"same\", strides=1, name=\"encoder_conv_5\")(encoder_activ_layer4)\n",
    "encoder_norm_layer5 = tf.keras.layers.BatchNormalization(name=\"encoder_norm_5\")(encoder_conv_layer5)\n",
    "encoder_activ_layer5 = tf.keras.layers.LeakyReLU(name=\"encoder_activ_layer_5\")(encoder_norm_layer5)\n",
    "\n",
    "shape_before_flatten = tf.keras.backend.int_shape(encoder_activ_layer5)[1:]\n",
    "encoder_flatten = tf.keras.layers.Flatten()(encoder_activ_layer5)\n",
    "\n",
    "encoder_mu = tf.keras.layers.Dense(units=latent_space_dim, name=\"encoder_mu\")(encoder_flatten)\n",
    "encoder_log_variance = tf.keras.layers.Dense(units=latent_space_dim, name=\"encoder_log_variance\")(encoder_flatten)\n",
    "\n",
    "encoder_mu_log_variance_model = tf.keras.models.Model(x, (encoder_mu, encoder_log_variance), name=\"encoder_mu_log_variance_model\")\n",
    "\n",
    "def sampling(mu_log_variance):\n",
    "    mu, log_variance = mu_log_variance\n",
    "    epsilon = tf.keras.backend.random_normal(shape=tf.keras.backend.shape(mu), mean=0.0, stddev=1.0)\n",
    "    random_sample = mu + tf.keras.backend.exp(log_variance/2) * epsilon\n",
    "    return random_sample\n",
    "\n",
    "encoder_output = tf.keras.layers.Lambda(sampling, name=\"encoder_output\")([encoder_mu, encoder_log_variance])\n",
    "\n",
    "encoder = tf.keras.models.Model(x, encoder_output, name=\"encoder_model\")"
   ],
   "execution_count": null,
   "outputs": []
  },
  {
   "cell_type": "markdown",
   "metadata": {
    "id": "8QhUHklxnF2c"
   },
   "source": [
    "##ENCODER DETAILS"
   ]
  },
  {
   "cell_type": "code",
   "metadata": {
    "id": "QRwBRymfvAJP",
    "colab": {
     "base_uri": "https://localhost:8080/"
    },
    "outputId": "fdc87705-3330-42d7-c4c5-8bea1569e211"
   },
   "source": [
    "encoder.summary()"
   ],
   "execution_count": null,
   "outputs": [
    {
     "output_type": "stream",
     "text": [
      "Model: \"encoder_model\"\n",
      "__________________________________________________________________________________________________\n",
      "Layer (type)                    Output Shape         Param #     Connected to                     \n",
      "==================================================================================================\n",
      "encoder_input (InputLayer)      [(None, 56, 48, 3)]  0                                            \n",
      "__________________________________________________________________________________________________\n",
      "encoder_conv_1 (Conv2D)         (None, 56, 48, 3)    84          encoder_input[0][0]              \n",
      "__________________________________________________________________________________________________\n",
      "encoder_norm_1 (BatchNormalizat (None, 56, 48, 3)    12          encoder_conv_1[0][0]             \n",
      "__________________________________________________________________________________________________\n",
      "encoder_leakyrelu_1 (LeakyReLU) (None, 56, 48, 3)    0           encoder_norm_1[0][0]             \n",
      "__________________________________________________________________________________________________\n",
      "encoder_conv_2 (Conv2D)         (None, 56, 48, 32)   896         encoder_leakyrelu_1[0][0]        \n",
      "__________________________________________________________________________________________________\n",
      "encoder_norm_2 (BatchNormalizat (None, 56, 48, 32)   128         encoder_conv_2[0][0]             \n",
      "__________________________________________________________________________________________________\n",
      "encoder_activ_layer_2 (LeakyReL (None, 56, 48, 32)   0           encoder_norm_2[0][0]             \n",
      "__________________________________________________________________________________________________\n",
      "encoder_conv_3 (Conv2D)         (None, 28, 24, 64)   18496       encoder_activ_layer_2[0][0]      \n",
      "__________________________________________________________________________________________________\n",
      "encoder_norm_3 (BatchNormalizat (None, 28, 24, 64)   256         encoder_conv_3[0][0]             \n",
      "__________________________________________________________________________________________________\n",
      "encoder_activ_layer_3 (LeakyReL (None, 28, 24, 64)   0           encoder_norm_3[0][0]             \n",
      "__________________________________________________________________________________________________\n",
      "encoder_conv_4 (Conv2D)         (None, 14, 12, 64)   36928       encoder_activ_layer_3[0][0]      \n",
      "__________________________________________________________________________________________________\n",
      "encoder_norm_4 (BatchNormalizat (None, 14, 12, 64)   256         encoder_conv_4[0][0]             \n",
      "__________________________________________________________________________________________________\n",
      "encoder_activ_layer_4 (LeakyReL (None, 14, 12, 64)   0           encoder_norm_4[0][0]             \n",
      "__________________________________________________________________________________________________\n",
      "encoder_conv_5 (Conv2D)         (None, 14, 12, 64)   36928       encoder_activ_layer_4[0][0]      \n",
      "__________________________________________________________________________________________________\n",
      "encoder_norm_5 (BatchNormalizat (None, 14, 12, 64)   256         encoder_conv_5[0][0]             \n",
      "__________________________________________________________________________________________________\n",
      "encoder_activ_layer_5 (LeakyReL (None, 14, 12, 64)   0           encoder_norm_5[0][0]             \n",
      "__________________________________________________________________________________________________\n",
      "flatten_2 (Flatten)             (None, 10752)        0           encoder_activ_layer_5[0][0]      \n",
      "__________________________________________________________________________________________________\n",
      "encoder_mu (Dense)              (None, 1000)         10753000    flatten_2[0][0]                  \n",
      "__________________________________________________________________________________________________\n",
      "encoder_log_variance (Dense)    (None, 1000)         10753000    flatten_2[0][0]                  \n",
      "__________________________________________________________________________________________________\n",
      "encoder_output (Lambda)         (None, 1000)         0           encoder_mu[0][0]                 \n",
      "                                                                 encoder_log_variance[0][0]       \n",
      "==================================================================================================\n",
      "Total params: 21,600,240\n",
      "Trainable params: 21,599,786\n",
      "Non-trainable params: 454\n",
      "__________________________________________________________________________________________________\n"
     ],
     "name": "stdout"
    }
   ]
  },
  {
   "cell_type": "code",
   "metadata": {
    "id": "4jsyTZX6yO93"
   },
   "source": [
    "decoder_input = tf.keras.layers.Input(shape=(latent_space_dim), name=\"decoder_input\")\n",
    "\n",
    "decoder_dense_layer1 = tf.keras.layers.Dense(units=np.prod(shape_before_flatten), name=\"decoder_dense_1\")(decoder_input)\n",
    "\n",
    "decoder_reshape = tf.keras.layers.Reshape(target_shape=shape_before_flatten)(decoder_dense_layer1)\n",
    "\n",
    "decoder_conv_tran_layer1 = tf.keras.layers.Conv2DTranspose(filters=64, kernel_size=(3, 3), padding=\"same\", strides=1, name=\"decoder_conv_tran_1\")(decoder_reshape)\n",
    "decoder_norm_layer1 = tf.keras.layers.BatchNormalization(name=\"decoder_norm_1\")(decoder_conv_tran_layer1)\n",
    "decoder_activ_layer1 = tf.keras.layers.LeakyReLU(name=\"decoder_leakyrelu_1\")(decoder_norm_layer1)\n",
    "\n",
    "decoder_conv_tran_layer2 = tf.keras.layers.Conv2DTranspose(filters=64, kernel_size=(3, 3), padding=\"same\", strides=2, name=\"decoder_conv_tran_2\")(decoder_activ_layer1)\n",
    "decoder_norm_layer2 = tf.keras.layers.BatchNormalization(name=\"decoder_norm_2\")(decoder_conv_tran_layer2)\n",
    "decoder_activ_layer2 = tf.keras.layers.LeakyReLU(name=\"decoder_leakyrelu_2\")(decoder_norm_layer2)\n",
    "\n",
    "decoder_conv_tran_layer3 = tf.keras.layers.Conv2DTranspose(filters=64, kernel_size=(3, 3), padding=\"same\", strides=2, name=\"decoder_conv_tran_3\")(decoder_activ_layer2)\n",
    "decoder_norm_layer3 = tf.keras.layers.BatchNormalization(name=\"decoder_norm_3\")(decoder_conv_tran_layer3)\n",
    "decoder_activ_layer3 = tf.keras.layers.LeakyReLU(name=\"decoder_leakyrelu_3\")(decoder_norm_layer3)\n",
    "\n",
    "decoder_conv_tran_layer4 = tf.keras.layers.Conv2DTranspose(filters=3, kernel_size=(3, 3), padding=\"same\", strides=1, name=\"decoder_conv_tran_4\")(decoder_activ_layer3)\n",
    "decoder_output = tf.keras.layers.LeakyReLU(name=\"decoder_output\")(decoder_conv_tran_layer4 )"
   ],
   "execution_count": null,
   "outputs": []
  },
  {
   "cell_type": "markdown",
   "metadata": {
    "id": "6d88_EwsnPu0"
   },
   "source": [
    "##DECODER DETAILS"
   ]
  },
  {
   "cell_type": "code",
   "metadata": {
    "id": "3BT71O9czi2s",
    "colab": {
     "base_uri": "https://localhost:8080/"
    },
    "outputId": "59e0a137-50b7-43d5-e9cf-d0fd8bc9f072"
   },
   "source": [
    "decoder = tf.keras.models.Model(decoder_input, decoder_output, name=\"decoder_model\")\n",
    "decoder.summary()"
   ],
   "execution_count": null,
   "outputs": [
    {
     "output_type": "stream",
     "text": [
      "Model: \"decoder_model\"\n",
      "_________________________________________________________________\n",
      "Layer (type)                 Output Shape              Param #   \n",
      "=================================================================\n",
      "decoder_input (InputLayer)   [(None, 1000)]            0         \n",
      "_________________________________________________________________\n",
      "decoder_dense_1 (Dense)      (None, 10752)             10762752  \n",
      "_________________________________________________________________\n",
      "reshape (Reshape)            (None, 14, 12, 64)        0         \n",
      "_________________________________________________________________\n",
      "decoder_conv_tran_1 (Conv2DT (None, 14, 12, 64)        36928     \n",
      "_________________________________________________________________\n",
      "decoder_norm_1 (BatchNormali (None, 14, 12, 64)        256       \n",
      "_________________________________________________________________\n",
      "decoder_leakyrelu_1 (LeakyRe (None, 14, 12, 64)        0         \n",
      "_________________________________________________________________\n",
      "decoder_conv_tran_2 (Conv2DT (None, 28, 24, 64)        36928     \n",
      "_________________________________________________________________\n",
      "decoder_norm_2 (BatchNormali (None, 28, 24, 64)        256       \n",
      "_________________________________________________________________\n",
      "decoder_leakyrelu_2 (LeakyRe (None, 28, 24, 64)        0         \n",
      "_________________________________________________________________\n",
      "decoder_conv_tran_3 (Conv2DT (None, 56, 48, 64)        36928     \n",
      "_________________________________________________________________\n",
      "decoder_norm_3 (BatchNormali (None, 56, 48, 64)        256       \n",
      "_________________________________________________________________\n",
      "decoder_leakyrelu_3 (LeakyRe (None, 56, 48, 64)        0         \n",
      "_________________________________________________________________\n",
      "decoder_conv_tran_4 (Conv2DT (None, 56, 48, 3)         1731      \n",
      "_________________________________________________________________\n",
      "decoder_output (LeakyReLU)   (None, 56, 48, 3)         0         \n",
      "=================================================================\n",
      "Total params: 10,876,035\n",
      "Trainable params: 10,875,651\n",
      "Non-trainable params: 384\n",
      "_________________________________________________________________\n"
     ],
     "name": "stdout"
    }
   ]
  },
  {
   "cell_type": "markdown",
   "metadata": {
    "id": "KW-odwcWndX7"
   },
   "source": [
    "## VAE MODEL DETAILS"
   ]
  },
  {
   "cell_type": "code",
   "metadata": {
    "id": "jjdc2jhYzzFf",
    "colab": {
     "base_uri": "https://localhost:8080/"
    },
    "outputId": "ff657099-404e-4e35-d75e-3ab94ae25041"
   },
   "source": [
    "vae_input = tf.keras.layers.Input(shape=shape, name=\"VAE_input\")\n",
    "vae_encoder_output = encoder(vae_input)\n",
    "vae_decoder_output = decoder(vae_encoder_output)\n",
    "vae = tf.keras.models.Model(vae_input, vae_decoder_output, name=\"VAE\")\n",
    "vae.summary()"
   ],
   "execution_count": null,
   "outputs": [
    {
     "output_type": "stream",
     "text": [
      "Model: \"VAE\"\n",
      "_________________________________________________________________\n",
      "Layer (type)                 Output Shape              Param #   \n",
      "=================================================================\n",
      "VAE_input (InputLayer)       [(None, 56, 48, 3)]       0         \n",
      "_________________________________________________________________\n",
      "encoder_model (Functional)   (None, 1000)              21600240  \n",
      "_________________________________________________________________\n",
      "decoder_model (Functional)   (None, 56, 48, 3)         10876035  \n",
      "=================================================================\n",
      "Total params: 32,476,275\n",
      "Trainable params: 32,475,437\n",
      "Non-trainable params: 838\n",
      "_________________________________________________________________\n"
     ],
     "name": "stdout"
    }
   ]
  },
  {
   "cell_type": "code",
   "metadata": {
    "id": "-FNJrYyi0XYe"
   },
   "source": [
    "vae.compile(optimizer=tf.keras.optimizers.Adam(lr=0.00005), loss=tf.keras.losses.mae)"
   ],
   "execution_count": null,
   "outputs": []
  },
  {
   "cell_type": "code",
   "metadata": {
    "id": "ncpYGwY60aYO"
   },
   "source": [
    "(x_train, y_train), (x_test, y_test) = (data_validation, labels_validation), (data_test, labels_test)\n"
   ],
   "execution_count": null,
   "outputs": []
  },
  {
   "cell_type": "code",
   "metadata": {
    "id": "OtGkzldI01vf"
   },
   "source": [
    "def convert_to_size(desiredX, desiredY, data):\n",
    "  padded_images = []\n",
    "  for img in data:\n",
    "      shape = img.shape\n",
    "      xDiff = desiredX - shape[0]\n",
    "      xLeft = xDiff//2\n",
    "      xRight = xDiff-xLeft\n",
    "\n",
    "      yDiff = desiredY - shape[1]\n",
    "      yLeft = yDiff//2\n",
    "      yRight = yDiff - yLeft\n",
    "\n",
    "      padded_images.append(np.pad(img,((xLeft,xRight),(yLeft,yRight),(0,0)), mode='constant'))\n",
    "  padded_images = np.array(padded_images)\n",
    "  return padded_images"
   ],
   "execution_count": null,
   "outputs": []
  },
  {
   "cell_type": "code",
   "metadata": {
    "id": "vnIWpuVS1mOw"
   },
   "source": [
    "x_train = convert_to_size(56, 48, x_train)\n",
    "x_test = convert_to_size(56, 48, x_test)\n",
    "x_poisoned = convert_to_size(56, 48, data_poisoned)\n",
    "x_anonymous = convert_to_size(56, 48, data_anonymous)\n",
    "x_sunglasses = convert_to_size(56, 48, data_poisoned_sunglasses)\n",
    "x_eyebrows = convert_to_size(56, 48, data_poisoned_eyebrows)\n",
    "x_lipstick = convert_to_size(56, 48, data_poisoned_lipstick)"
   ],
   "execution_count": null,
   "outputs": []
  },
  {
   "cell_type": "code",
   "metadata": {
    "colab": {
     "base_uri": "https://localhost:8080/"
    },
    "id": "uOSvAbyR00fM",
    "outputId": "8d1adad3-0e07-4018-e163-5c1d12baade9"
   },
   "source": [
    "history = vae.fit(x_train, x_train, epochs=5, batch_size=32, shuffle=True)"
   ],
   "execution_count": null,
   "outputs": [
    {
     "output_type": "stream",
     "text": [
      "Epoch 1/5\n",
      "361/361 [==============================] - 8s 16ms/step - loss: 0.2546\n",
      "Epoch 2/5\n",
      "361/361 [==============================] - 6s 15ms/step - loss: 0.0814\n",
      "Epoch 3/5\n",
      "361/361 [==============================] - 6s 15ms/step - loss: 0.0672\n",
      "Epoch 4/5\n",
      "361/361 [==============================] - 6s 15ms/step - loss: 0.0604\n",
      "Epoch 5/5\n",
      "361/361 [==============================] - 6s 15ms/step - loss: 0.0575\n"
     ],
     "name": "stdout"
    }
   ]
  },
  {
   "cell_type": "code",
   "metadata": {
    "id": "MKQ9rLhJ3dIx"
   },
   "source": [
    "encoded_data = encoder.predict(x_test)\n",
    "decoded_data = decoder.predict(encoded_data)"
   ],
   "execution_count": null,
   "outputs": []
  },
  {
   "cell_type": "markdown",
   "metadata": {
    "id": "Y_-2-hqGnxNF"
   },
   "source": [
    "##LOSS vs EPOCH"
   ]
  },
  {
   "cell_type": "code",
   "metadata": {
    "colab": {
     "base_uri": "https://localhost:8080/",
     "height": 285
    },
    "id": "3ON1IAJWv6Sa",
    "outputId": "6b1bf10e-a3b5-4337-b4c9-a12905be752e"
   },
   "source": [
    "plt.plot(history.history[\"loss\"], label=\"Training Loss\")\n",
    "plt.legend()"
   ],
   "execution_count": null,
   "outputs": [
    {
     "output_type": "execute_result",
     "data": {
      "text/plain": [
       "<matplotlib.legend.Legend at 0x7fb0c2fee390>"
      ]
     },
     "metadata": {
      "tags": []
     },
     "execution_count": 20
    },
    {
     "output_type": "display_data",
     "data": {
      "image/png": "[encoded data removed]",
      "text/plain": [
       "<Figure size 432x288 with 1 Axes>"
      ]
     },
     "metadata": {
      "tags": [],
      "needs_background": "light"
     }
    }
   ]
  },
  {
   "cell_type": "markdown",
   "metadata": {
    "id": "LHIphhm7Vp2V"
   },
   "source": [
    "### Saving the model and encoder, decoder"
   ]
  },
  {
   "cell_type": "code",
   "metadata": {
    "id": "SE8-R2XoV4pj"
   },
   "source": [
    "encoder.save(filepath=\"/content/drive/MyDrive/VAE_model/VAE_encoder.h5\", overwrite=True, save_format='h5') \n",
    "decoder.save(filepath=\"/content/drive/MyDrive/VAE_model/VAE_decoder.h5\", overwrite=True, save_format='h5') \n",
    "vae.save(filepath=\"/content/drive/MyDrive/VAE_model/VAE.h5\", overwrite=True, save_format='h5')"
   ],
   "execution_count": null,
   "outputs": []
  },
  {
   "cell_type": "markdown",
   "metadata": {
    "id": "Jczmku9oqlUX"
   },
   "source": [
    "Sample Eyebrow Poisoned Image"
   ]
  },
  {
   "cell_type": "code",
   "metadata": {
    "id": "LynakBsk1Mcz",
    "colab": {
     "base_uri": "https://localhost:8080/",
     "height": 267
    },
    "outputId": "b5fd1467-6247-4163-818e-0b3eb731f414"
   },
   "source": [
    "poisoned_data_img = convert_to_size(56, 48, [x_eyebrows[100]])\n",
    "plt.imshow(poisoned_data_img.reshape(56, 48, 3));"
   ],
   "execution_count": null,
   "outputs": [
    {
     "output_type": "display_data",
     "data": {
      "image/png": "[encoded data removed]",
      "text/plain": [
       "<Figure size 432x288 with 1 Axes>"
      ]
     },
     "metadata": {
      "tags": [],
      "needs_background": "light"
     }
    }
   ]
  },
  {
   "cell_type": "markdown",
   "metadata": {
    "id": "pkN07Jf1qoaL"
   },
   "source": [
    "Reconstrcuted Eyebrow Image"
   ]
  },
  {
   "cell_type": "code",
   "metadata": {
    "id": "6O67YJmJsTPj",
    "colab": {
     "base_uri": "https://localhost:8080/",
     "height": 284
    },
    "outputId": "3cc4eacd-4ee8-4ff4-f2f5-0fcdf4e09d53"
   },
   "source": [
    "poisoned_data_img = poisoned_data_img.reshape(1, 56, 48, 3)\n",
    "poisoned_data = encoder.predict(poisoned_data_img)\n",
    "poisoned_decoded_output = decoder.predict(poisoned_data)\n",
    "plt.imshow(poisoned_decoded_output.reshape(56,48,3));"
   ],
   "execution_count": null,
   "outputs": [
    {
     "output_type": "stream",
     "text": [
      "Clipping input data to the valid range for imshow with RGB data ([0..1] for floats or [0..255] for integers).\n"
     ],
     "name": "stderr"
    },
    {
     "output_type": "display_data",
     "data": {
      "image/png": "[encoded data removed]",
      "text/plain": [
       "<Figure size 432x288 with 1 Axes>"
      ]
     },
     "metadata": {
      "tags": [],
      "needs_background": "light"
     }
    }
   ]
  },
  {
   "cell_type": "code",
   "metadata": {
    "colab": {
     "base_uri": "https://localhost:8080/"
    },
    "id": "wPR9Vk2asxWj",
    "outputId": "2c180786-9938-451c-b87a-50294bdfb011"
   },
   "source": [
    "final_threshold = 0\n",
    "all_data = [x_train, x_test, x_poisoned, x_sunglasses, x_lipstick, x_anonymous, x_eyebrows]\n",
    "names = [\"x_train\", \"x_test\", \"x_poisoned\", \"x_sunglasses\", \"x_lipstick\", \"x_anonymous\", \"x_eyebrows\"]\n",
    "for data, name  in zip(all_data, names):\n",
    "  reconstructions = vae.predict(data).astype('float32')\n",
    "  data = data.astype('float32')\n",
    "  train_loss = tf.keras.losses.mae(reconstructions, data)\n",
    "  threshold = np.mean(train_loss) + np.std(train_loss)\n",
    "  print(\"Reconstruction loss for\",name,\":\", threshold,  \"\\n\")\n",
    "  if name == \"x_train\" or name == \"x_test\":\n",
    "    final_threshold = max(final_threshold, threshold)"
   ],
   "execution_count": null,
   "outputs": [
    {
     "output_type": "stream",
     "text": [
      "Reconstruction loss for x_train : 0.09597464 \n",
      "\n",
      "Reconstruction loss for x_test : 0.09690079 \n",
      "\n",
      "Reconstruction loss for x_poisoned : 0.20103425 \n",
      "\n",
      "Reconstruction loss for x_sunglasses : 0.20100993 \n",
      "\n",
      "Reconstruction loss for x_lipstick : 0.10481995 \n",
      "\n",
      "Reconstruction loss for x_anonymous : 0.104821034 \n",
      "\n",
      "Reconstruction loss for x_eyebrows : 0.11117971 \n",
      "\n"
     ],
     "name": "stdout"
    }
   ]
  },
  {
   "cell_type": "code",
   "metadata": {
    "id": "tTKDkwL23TKr",
    "colab": {
     "base_uri": "https://localhost:8080/"
    },
    "outputId": "b25625b8-9bbd-4090-95e1-a05de78440ee"
   },
   "source": [
    "final_threshold"
   ],
   "execution_count": null,
   "outputs": [
    {
     "output_type": "execute_result",
     "data": {
      "text/plain": [
       "0.09690079"
      ]
     },
     "metadata": {
      "tags": []
     },
     "execution_count": 25
    }
   ]
  },
  {
   "cell_type": "code",
   "metadata": {
    "id": "nhdwnjEAXdSs"
   },
   "source": [
    "def predict(model, data, threshold):\n",
    "  reconstructions = model(data)\n",
    "  labels = np.empty(threshold.shape)\n",
    "  result = []\n",
    "  for reconstruction, image in zip(reconstructions, data):\n",
    "    loss = tf.keras.losses.mae(reconstruction, image)\n",
    "    loss = np.mean(loss) + np.std(loss)\n",
    "    # loss = np.mean(loss) + np.std(loss)\n",
    "    valid = True if loss>threshold[0] else False\n",
    "    result.append(valid)\n",
    "  return np.array(result)"
   ],
   "execution_count": null,
   "outputs": []
  },
  {
   "cell_type": "code",
   "metadata": {
    "colab": {
     "base_uri": "https://localhost:8080/"
    },
    "id": "4HDfeATGywyg",
    "outputId": "1b4f9b85-b07d-4988-97be-5169bf3a6d04"
   },
   "source": [
    "all_data = [x_train, x_test, x_poisoned, x_sunglasses, x_lipstick, x_anonymous]\n",
    "names = [\"x_train\", \"x_test\", \"x_poisoned\", \"x_sunglasses\", \"x_lipstick\", \"x_anonymous\"]\n",
    "for data, name in zip(all_data, names):\n",
    "  thresholds = np.array([final_threshold]*2000)\n",
    "  preds = predict(vae, data[:2000], thresholds)\n",
    "  count = Counter(preds)\n",
    "  print(\"Predictions for \",name,\":\", count,  \"\\n\")"
   ],
   "execution_count": null,
   "outputs": [
    {
     "output_type": "stream",
     "text": [
      "Predictions for  x_train : Counter({False: 1247, True: 753}) \n",
      "\n",
      "Predictions for  x_test : Counter({False: 1198, True: 802}) \n",
      "\n",
      "Predictions for  x_poisoned : Counter({True: 2000}) \n",
      "\n",
      "Predictions for  x_sunglasses : Counter({True: 2000}) \n",
      "\n",
      "Predictions for  x_lipstick : Counter({True: 1061, False: 939}) \n",
      "\n",
      "Predictions for  x_anonymous : Counter({True: 1059, False: 941}) \n",
      "\n"
     ],
     "name": "stdout"
    }
   ]
  },
  {
   "cell_type": "code",
   "metadata": {
    "id": "yOkGbaDJD2It",
    "colab": {
     "base_uri": "https://localhost:8080/"
    },
    "outputId": "e882f16b-6a5a-4a93-ccae-9254d4d51ec7"
   },
   "source": [
    "all_data = [x_train, x_test, x_poisoned, x_sunglasses, x_lipstick, x_anonymous]\n",
    "names = [\"x_train\", \"x_test\", \"x_poisoned\", \"x_sunglasses\", \"x_lipstick\", \"x_anonymous\"]\n",
    "for data, name in zip(all_data, names):\n",
    "  thresholds = np.array([final_threshold]*4000)\n",
    "  preds = predict(vae, data[:4000], thresholds)\n",
    "  count = Counter(preds)\n",
    "  print(\"Predictions for \",name,\":\", count,  \"\\n\")"
   ],
   "execution_count": null,
   "outputs": [
    {
     "output_type": "stream",
     "text": [
      "Predictions for  x_train : Counter({False: 2480, True: 1520}) \n",
      "\n",
      "Predictions for  x_test : Counter({False: 2441, True: 1559}) \n",
      "\n",
      "Predictions for  x_poisoned : Counter({True: 4000}) \n",
      "\n",
      "Predictions for  x_sunglasses : Counter({True: 4000}) \n",
      "\n",
      "Predictions for  x_lipstick : Counter({True: 2145, False: 1855}) \n",
      "\n",
      "Predictions for  x_anonymous : Counter({True: 2140, False: 1860}) \n",
      "\n"
     ],
     "name": "stdout"
    }
   ]
  }
 ]
}