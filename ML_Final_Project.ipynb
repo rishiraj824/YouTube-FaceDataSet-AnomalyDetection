{
  "nbformat": 4,
  "nbformat_minor": 0,
  "metadata": {
    "accelerator": "GPU",
    "colab": {
      "name": "ML Final Project",
      "provenance": [],
      "collapsed_sections": [],
      "machine_shape": "hm"
    },
    "kernelspec": {
      "display_name": "Python 3",
      "name": "python3"
    }
  },
  "cells": [
    {
      "cell_type": "code",
      "metadata": {
        "colab": {
          "base_uri": "https://localhost:8080/"
        },
        "id": "F5MaxQAo_cJh",
        "outputId": "69854aa8-f538-4693-9eb9-b10d4586e498"
      },
      "source": [
        "from google.colab import drive\n",
        "drive.mount('/content/drive', force_remount=True)"
      ],
      "execution_count": 2,
      "outputs": [
        {
          "output_type": "stream",
          "text": [
            "Mounted at /content/drive\n"
          ],
          "name": "stdout"
        }
      ]
    },
    {
      "cell_type": "code",
      "metadata": {
        "colab": {
          "base_uri": "https://localhost:8080/"
        },
        "id": "CvynVHQ_Yjpv",
        "outputId": "518d0d44-4295-4e7f-98e5-fe3812f61622"
      },
      "source": [
        "!git clone https://github.com/csaw-hackml/CSAW-HackML-2020.git\n",
        "%cd /content/CSAW-HackML-2020/\n",
        "DATA_PATH = '../drive/MyDrive/data'\n",
        "GOOD_MODEL_PATH = '/content/drive/MyDrive/VAE_model/'"
      ],
      "execution_count": 4,
      "outputs": [
        {
          "output_type": "stream",
          "text": [
            "Cloning into 'CSAW-HackML-2020'...\n",
            "remote: Enumerating objects: 164, done.\u001b[K\n",
            "remote: Total 164 (delta 0), reused 0 (delta 0), pack-reused 164\u001b[K\n",
            "Receiving objects: 100% (164/164), 79.56 MiB | 42.39 MiB/s, done.\n",
            "Resolving deltas: 100% (55/55), done.\n",
            "/content/CSAW-HackML-2020\n"
          ],
          "name": "stdout"
        }
      ]
    },
    {
      "cell_type": "markdown",
      "metadata": {
        "id": "-vJS5YtZZLWd"
      },
      "source": [
        "# Data Definition"
      ]
    },
    {
      "cell_type": "code",
      "metadata": {
        "id": "ABu2jvyjZP-G"
      },
      "source": [
        "import h5py\n",
        "import numpy as np\n",
        "from os.path import join\n",
        "import keras\n",
        "from architecture import Net\n",
        "import tensorflow as tf\n",
        "import collections\n",
        "from collections import Counter\n"
      ],
      "execution_count": 5,
      "outputs": []
    },
    {
      "cell_type": "code",
      "metadata": {
        "id": "clH96PGFiWWn"
      },
      "source": [
        "def data_loader(filepath):\n",
        "    data = h5py.File(filepath, 'r')\n",
        "    x_data = np.array(data['data'])\n",
        "    y_data = np.array(data['label'])\n",
        "    x_data = x_data.transpose((0,2,3,1))\n",
        "\n",
        "    return x_data, y_data"
      ],
      "execution_count": 6,
      "outputs": []
    },
    {
      "cell_type": "code",
      "metadata": {
        "colab": {
          "base_uri": "https://localhost:8080/"
        },
        "id": "4PsSZbfYbb0x",
        "outputId": "766dada3-0159-473b-fb76-47a49c3b4a02"
      },
      "source": [
        "data_validation, labels_validation = data_loader(join(DATA_PATH, 'clean_validation_data.h5'))\n",
        "data_test, labels_test = data_loader(join(DATA_PATH, 'clean_test_data.h5'))\n",
        "data_poisoned, labels_poisoned = data_loader(join(DATA_PATH, 'sunglasses_poisoned_data.h5'))\n",
        "data_anonymous, labels_anonymous = data_loader(join(DATA_PATH, 'anonymous_1_poisoned_data.h5'))\n",
        "\n",
        "## Multi Trigger\n",
        "data_poisoned_eyebrows, labels_poisoned_eyebrows = data_loader(join(DATA_PATH, 'Multi-trigger Multi-target/eyebrows_poisoned_data.h5'))\n",
        "data_poisoned_lipstick, labels_poisoned_lipstick = data_loader(join(DATA_PATH, 'Multi-trigger Multi-target/lipstick_poisoned_data.h5'))\n",
        "data_poisoned_sunglasses, labels_poisoned_sunglasses = data_loader(join(DATA_PATH, 'Multi-trigger Multi-target/sunglasses_poisoned_data.h5'))\n",
        "\n",
        "\n",
        "\n",
        "print('Validation Shape:', data_validation.shape)\n",
        "print('Validation Labels:', labels_validation.shape)\n",
        "print('Test shape:', data_test.shape)\n"
      ],
      "execution_count": 7,
      "outputs": [
        {
          "output_type": "stream",
          "text": [
            "Validation Shape: (11547, 55, 47, 3)\n",
            "Validation Labels: (11547,)\n",
            "Test shape: (12830, 55, 47, 3)\n"
          ],
          "name": "stdout"
        }
      ]
    },
    {
      "cell_type": "markdown",
      "metadata": {
        "id": "wh_oa2MpesXK"
      },
      "source": [
        "### Normalization"
      ]
    },
    {
      "cell_type": "code",
      "metadata": {
        "id": "gU7AbkXy6z6n"
      },
      "source": [
        "data_validation = data_validation/255\n",
        "data_test = data_test/255\n",
        "data_poisoned = data_poisoned/255\n",
        "data_poisoned_eyebrows = data_poisoned_eyebrows/255\n",
        "data_poisoned_lipstick = data_poisoned_lipstick/255\n",
        "data_poisoned_sunglasses = data_poisoned_sunglasses/255\n",
        "data_anonymous = data_anonymous/255"
      ],
      "execution_count": 8,
      "outputs": []
    },
    {
      "cell_type": "markdown",
      "metadata": {
        "id": "sRIxC255m5xf"
      },
      "source": [
        "Sample Clean Image"
      ]
    },
    {
      "cell_type": "code",
      "metadata": {
        "colab": {
          "base_uri": "https://localhost:8080/",
          "height": 267
        },
        "id": "9goEofXratbs",
        "outputId": "725b9186-9785-41b5-d753-0ebaae76e61c"
      },
      "source": [
        "import matplotlib.pyplot as plt\n",
        "plt.imshow(data_test[100]);"
      ],
      "execution_count": null,
      "outputs": [
        {
          "output_type": "display_data",
          "data": {
            "image/png": "[encoded data removed]",
            "text/plain": [
              "<Figure size 432x288 with 1 Axes>"
            ]
          },
          "metadata": {
            "tags": [],
            "needs_background": "light"
          }
        }
      ]
    },
    {
      "cell_type": "markdown",
      "metadata": {
        "id": "UxIEgdrFm7xR"
      },
      "source": [
        "Sample Poisoned Image\n"
      ]
    },
    {
      "cell_type": "code",
      "metadata": {
        "colab": {
          "base_uri": "https://localhost:8080/",
          "height": 267
        },
        "id": "f0cWEbH2cG5T",
        "outputId": "bebba299-8892-4fe0-c443-58dd4d4624a0"
      },
      "source": [
        "temp = data_poisoned[100]\n",
        "plt.imshow(temp);"
      ],
      "execution_count": null,
      "outputs": [
        {
          "output_type": "display_data",
          "data": {
            "image/png": "[encoded data removed]",
            "text/plain": [
              "<Figure size 432x288 with 1 Axes>"
            ]
          },
          "metadata": {
            "tags": [],
            "needs_background": "light"
          }
        }
      ]
    },
    {
      "cell_type": "markdown",
      "metadata": {
        "id": "QWeEbWt8mfmI"
      },
      "source": [
        "#METHOD - 1 - VAE Model\n",
        "\n",
        "\n",
        "\n"
      ]
    },
    {
      "cell_type": "code",
      "metadata": {
        "id": "_LWIHxiElTgi"
      },
      "source": [
        "latent_space_dim = 1000\n",
        "img_size = 55\n",
        "shape = (56, 48, 3)\n",
        "# Encoder\n",
        "x = tf.keras.layers.Input(shape=shape, name=\"encoder_input\")\n",
        "\n",
        "encoder_conv_layer1 = tf.keras.layers.Conv2D(filters=3, kernel_size=(3, 3), padding=\"same\", strides=1, name=\"encoder_conv_1\")(x)\n",
        "encoder_norm_layer1 = tf.keras.layers.BatchNormalization(name=\"encoder_norm_1\")(encoder_conv_layer1)\n",
        "encoder_activ_layer1 = tf.keras.layers.LeakyReLU(name=\"encoder_leakyrelu_1\")(encoder_norm_layer1)\n",
        "\n",
        "encoder_conv_layer2 = tf.keras.layers.Conv2D(filters=32, kernel_size=(3,3), padding=\"same\", strides=1, name=\"encoder_conv_2\")(encoder_activ_layer1)\n",
        "encoder_norm_layer2 = tf.keras.layers.BatchNormalization(name=\"encoder_norm_2\")(encoder_conv_layer2)\n",
        "encoder_activ_layer2 = tf.keras.layers.LeakyReLU(name=\"encoder_activ_layer_2\")(encoder_norm_layer2)\n",
        "\n",
        "encoder_conv_layer3 = tf.keras.layers.Conv2D(filters=64, kernel_size=(3,3), padding=\"same\", strides=2, name=\"encoder_conv_3\")(encoder_activ_layer2)\n",
        "encoder_norm_layer3 = tf.keras.layers.BatchNormalization(name=\"encoder_norm_3\")(encoder_conv_layer3)\n",
        "encoder_activ_layer3 = tf.keras.layers.LeakyReLU(name=\"encoder_activ_layer_3\")(encoder_norm_layer3)\n",
        "\n",
        "encoder_conv_layer4 = tf.keras.layers.Conv2D(filters=64, kernel_size=(3,3), padding=\"same\", strides=2, name=\"encoder_conv_4\")(encoder_activ_layer3)\n",
        "encoder_norm_layer4 = tf.keras.layers.BatchNormalization(name=\"encoder_norm_4\")(encoder_conv_layer4)\n",
        "encoder_activ_layer4 = tf.keras.layers.LeakyReLU(name=\"encoder_activ_layer_4\")(encoder_norm_layer4)\n",
        "\n",
        "encoder_conv_layer5 = tf.keras.layers.Conv2D(filters=64, kernel_size=(3,3), padding=\"same\", strides=1, name=\"encoder_conv_5\")(encoder_activ_layer4)\n",
        "encoder_norm_layer5 = tf.keras.layers.BatchNormalization(name=\"encoder_norm_5\")(encoder_conv_layer5)\n",
        "encoder_activ_layer5 = tf.keras.layers.LeakyReLU(name=\"encoder_activ_layer_5\")(encoder_norm_layer5)\n",
        "\n",
        "shape_before_flatten = tf.keras.backend.int_shape(encoder_activ_layer5)[1:]\n",
        "encoder_flatten = tf.keras.layers.Flatten()(encoder_activ_layer5)\n",
        "\n",
        "encoder_mu = tf.keras.layers.Dense(units=latent_space_dim, name=\"encoder_mu\")(encoder_flatten)\n",
        "encoder_log_variance = tf.keras.layers.Dense(units=latent_space_dim, name=\"encoder_log_variance\")(encoder_flatten)\n",
        "\n",
        "encoder_mu_log_variance_model = tf.keras.models.Model(x, (encoder_mu, encoder_log_variance), name=\"encoder_mu_log_variance_model\")\n",
        "\n",
        "def sampling(mu_log_variance):\n",
        "    mu, log_variance = mu_log_variance\n",
        "    epsilon = tf.keras.backend.random_normal(shape=tf.keras.backend.shape(mu), mean=0.0, stddev=1.0)\n",
        "    random_sample = mu + tf.keras.backend.exp(log_variance/2) * epsilon\n",
        "    return random_sample\n",
        "\n",
        "encoder_output = tf.keras.layers.Lambda(sampling, name=\"encoder_output\")([encoder_mu, encoder_log_variance])\n",
        "\n",
        "encoder = tf.keras.models.Model(x, encoder_output, name=\"encoder_model\")"
      ],
      "execution_count": null,
      "outputs": []
    },
    {
      "cell_type": "markdown",
      "metadata": {
        "id": "8QhUHklxnF2c"
      },
      "source": [
        "##ENCODER DETAILS"
      ]
    },
    {
      "cell_type": "code",
      "metadata": {
        "id": "QRwBRymfvAJP",
        "colab": {
          "base_uri": "https://localhost:8080/"
        },
        "outputId": "fdc87705-3330-42d7-c4c5-8bea1569e211"
      },
      "source": [
        "encoder.summary()"
      ],
      "execution_count": null,
      "outputs": [
        {
          "output_type": "stream",
          "text": [
            "Model: \"encoder_model\"\n",
            "__________________________________________________________________________________________________\n",
            "Layer (type)                    Output Shape         Param #     Connected to                     \n",
            "==================================================================================================\n",
            "encoder_input (InputLayer)      [(None, 56, 48, 3)]  0                                            \n",
            "__________________________________________________________________________________________________\n",
            "encoder_conv_1 (Conv2D)         (None, 56, 48, 3)    84          encoder_input[0][0]              \n",
            "__________________________________________________________________________________________________\n",
            "encoder_norm_1 (BatchNormalizat (None, 56, 48, 3)    12          encoder_conv_1[0][0]             \n",
            "__________________________________________________________________________________________________\n",
            "encoder_leakyrelu_1 (LeakyReLU) (None, 56, 48, 3)    0           encoder_norm_1[0][0]             \n",
            "__________________________________________________________________________________________________\n",
            "encoder_conv_2 (Conv2D)         (None, 56, 48, 32)   896         encoder_leakyrelu_1[0][0]        \n",
            "__________________________________________________________________________________________________\n",
            "encoder_norm_2 (BatchNormalizat (None, 56, 48, 32)   128         encoder_conv_2[0][0]             \n",
            "__________________________________________________________________________________________________\n",
            "encoder_activ_layer_2 (LeakyReL (None, 56, 48, 32)   0           encoder_norm_2[0][0]             \n",
            "__________________________________________________________________________________________________\n",
            "encoder_conv_3 (Conv2D)         (None, 28, 24, 64)   18496       encoder_activ_layer_2[0][0]      \n",
            "__________________________________________________________________________________________________\n",
            "encoder_norm_3 (BatchNormalizat (None, 28, 24, 64)   256         encoder_conv_3[0][0]             \n",
            "__________________________________________________________________________________________________\n",
            "encoder_activ_layer_3 (LeakyReL (None, 28, 24, 64)   0           encoder_norm_3[0][0]             \n",
            "__________________________________________________________________________________________________\n",
            "encoder_conv_4 (Conv2D)         (None, 14, 12, 64)   36928       encoder_activ_layer_3[0][0]      \n",
            "__________________________________________________________________________________________________\n",
            "encoder_norm_4 (BatchNormalizat (None, 14, 12, 64)   256         encoder_conv_4[0][0]             \n",
            "__________________________________________________________________________________________________\n",
            "encoder_activ_layer_4 (LeakyReL (None, 14, 12, 64)   0           encoder_norm_4[0][0]             \n",
            "__________________________________________________________________________________________________\n",
            "encoder_conv_5 (Conv2D)         (None, 14, 12, 64)   36928       encoder_activ_layer_4[0][0]      \n",
            "__________________________________________________________________________________________________\n",
            "encoder_norm_5 (BatchNormalizat (None, 14, 12, 64)   256         encoder_conv_5[0][0]             \n",
            "__________________________________________________________________________________________________\n",
            "encoder_activ_layer_5 (LeakyReL (None, 14, 12, 64)   0           encoder_norm_5[0][0]             \n",
            "__________________________________________________________________________________________________\n",
            "flatten_2 (Flatten)             (None, 10752)        0           encoder_activ_layer_5[0][0]      \n",
            "__________________________________________________________________________________________________\n",
            "encoder_mu (Dense)              (None, 1000)         10753000    flatten_2[0][0]                  \n",
            "__________________________________________________________________________________________________\n",
            "encoder_log_variance (Dense)    (None, 1000)         10753000    flatten_2[0][0]                  \n",
            "__________________________________________________________________________________________________\n",
            "encoder_output (Lambda)         (None, 1000)         0           encoder_mu[0][0]                 \n",
            "                                                                 encoder_log_variance[0][0]       \n",
            "==================================================================================================\n",
            "Total params: 21,600,240\n",
            "Trainable params: 21,599,786\n",
            "Non-trainable params: 454\n",
            "__________________________________________________________________________________________________\n"
          ],
          "name": "stdout"
        }
      ]
    },
    {
      "cell_type": "code",
      "metadata": {
        "id": "4jsyTZX6yO93"
      },
      "source": [
        "decoder_input = tf.keras.layers.Input(shape=(latent_space_dim), name=\"decoder_input\")\n",
        "\n",
        "decoder_dense_layer1 = tf.keras.layers.Dense(units=np.prod(shape_before_flatten), name=\"decoder_dense_1\")(decoder_input)\n",
        "\n",
        "decoder_reshape = tf.keras.layers.Reshape(target_shape=shape_before_flatten)(decoder_dense_layer1)\n",
        "\n",
        "decoder_conv_tran_layer1 = tf.keras.layers.Conv2DTranspose(filters=64, kernel_size=(3, 3), padding=\"same\", strides=1, name=\"decoder_conv_tran_1\")(decoder_reshape)\n",
        "decoder_norm_layer1 = tf.keras.layers.BatchNormalization(name=\"decoder_norm_1\")(decoder_conv_tran_layer1)\n",
        "decoder_activ_layer1 = tf.keras.layers.LeakyReLU(name=\"decoder_leakyrelu_1\")(decoder_norm_layer1)\n",
        "\n",
        "decoder_conv_tran_layer2 = tf.keras.layers.Conv2DTranspose(filters=64, kernel_size=(3, 3), padding=\"same\", strides=2, name=\"decoder_conv_tran_2\")(decoder_activ_layer1)\n",
        "decoder_norm_layer2 = tf.keras.layers.BatchNormalization(name=\"decoder_norm_2\")(decoder_conv_tran_layer2)\n",
        "decoder_activ_layer2 = tf.keras.layers.LeakyReLU(name=\"decoder_leakyrelu_2\")(decoder_norm_layer2)\n",
        "\n",
        "decoder_conv_tran_layer3 = tf.keras.layers.Conv2DTranspose(filters=64, kernel_size=(3, 3), padding=\"same\", strides=2, name=\"decoder_conv_tran_3\")(decoder_activ_layer2)\n",
        "decoder_norm_layer3 = tf.keras.layers.BatchNormalization(name=\"decoder_norm_3\")(decoder_conv_tran_layer3)\n",
        "decoder_activ_layer3 = tf.keras.layers.LeakyReLU(name=\"decoder_leakyrelu_3\")(decoder_norm_layer3)\n",
        "\n",
        "decoder_conv_tran_layer4 = tf.keras.layers.Conv2DTranspose(filters=3, kernel_size=(3, 3), padding=\"same\", strides=1, name=\"decoder_conv_tran_4\")(decoder_activ_layer3)\n",
        "decoder_output = tf.keras.layers.LeakyReLU(name=\"decoder_output\")(decoder_conv_tran_layer4 )"
      ],
      "execution_count": null,
      "outputs": []
    },
    {
      "cell_type": "markdown",
      "metadata": {
        "id": "6d88_EwsnPu0"
      },
      "source": [
        "##DECODER DETAILS"
      ]
    },
    {
      "cell_type": "code",
      "metadata": {
        "id": "3BT71O9czi2s",
        "colab": {
          "base_uri": "https://localhost:8080/"
        },
        "outputId": "59e0a137-50b7-43d5-e9cf-d0fd8bc9f072"
      },
      "source": [
        "decoder = tf.keras.models.Model(decoder_input, decoder_output, name=\"decoder_model\")\n",
        "decoder.summary()"
      ],
      "execution_count": null,
      "outputs": [
        {
          "output_type": "stream",
          "text": [
            "Model: \"decoder_model\"\n",
            "_________________________________________________________________\n",
            "Layer (type)                 Output Shape              Param #   \n",
            "=================================================================\n",
            "decoder_input (InputLayer)   [(None, 1000)]            0         \n",
            "_________________________________________________________________\n",
            "decoder_dense_1 (Dense)      (None, 10752)             10762752  \n",
            "_________________________________________________________________\n",
            "reshape (Reshape)            (None, 14, 12, 64)        0         \n",
            "_________________________________________________________________\n",
            "decoder_conv_tran_1 (Conv2DT (None, 14, 12, 64)        36928     \n",
            "_________________________________________________________________\n",
            "decoder_norm_1 (BatchNormali (None, 14, 12, 64)        256       \n",
            "_________________________________________________________________\n",
            "decoder_leakyrelu_1 (LeakyRe (None, 14, 12, 64)        0         \n",
            "_________________________________________________________________\n",
            "decoder_conv_tran_2 (Conv2DT (None, 28, 24, 64)        36928     \n",
            "_________________________________________________________________\n",
            "decoder_norm_2 (BatchNormali (None, 28, 24, 64)        256       \n",
            "_________________________________________________________________\n",
            "decoder_leakyrelu_2 (LeakyRe (None, 28, 24, 64)        0         \n",
            "_________________________________________________________________\n",
            "decoder_conv_tran_3 (Conv2DT (None, 56, 48, 64)        36928     \n",
            "_________________________________________________________________\n",
            "decoder_norm_3 (BatchNormali (None, 56, 48, 64)        256       \n",
            "_________________________________________________________________\n",
            "decoder_leakyrelu_3 (LeakyRe (None, 56, 48, 64)        0         \n",
            "_________________________________________________________________\n",
            "decoder_conv_tran_4 (Conv2DT (None, 56, 48, 3)         1731      \n",
            "_________________________________________________________________\n",
            "decoder_output (LeakyReLU)   (None, 56, 48, 3)         0         \n",
            "=================================================================\n",
            "Total params: 10,876,035\n",
            "Trainable params: 10,875,651\n",
            "Non-trainable params: 384\n",
            "_________________________________________________________________\n"
          ],
          "name": "stdout"
        }
      ]
    },
    {
      "cell_type": "markdown",
      "metadata": {
        "id": "KW-odwcWndX7"
      },
      "source": [
        "## VAE MODEL DETAILS"
      ]
    },
    {
      "cell_type": "code",
      "metadata": {
        "id": "jjdc2jhYzzFf",
        "colab": {
          "base_uri": "https://localhost:8080/"
        },
        "outputId": "ff657099-404e-4e35-d75e-3ab94ae25041"
      },
      "source": [
        "vae_input = tf.keras.layers.Input(shape=shape, name=\"VAE_input\")\n",
        "vae_encoder_output = encoder(vae_input)\n",
        "vae_decoder_output = decoder(vae_encoder_output)\n",
        "vae = tf.keras.models.Model(vae_input, vae_decoder_output, name=\"VAE\")\n",
        "vae.summary()"
      ],
      "execution_count": null,
      "outputs": [
        {
          "output_type": "stream",
          "text": [
            "Model: \"VAE\"\n",
            "_________________________________________________________________\n",
            "Layer (type)                 Output Shape              Param #   \n",
            "=================================================================\n",
            "VAE_input (InputLayer)       [(None, 56, 48, 3)]       0         \n",
            "_________________________________________________________________\n",
            "encoder_model (Functional)   (None, 1000)              21600240  \n",
            "_________________________________________________________________\n",
            "decoder_model (Functional)   (None, 56, 48, 3)         10876035  \n",
            "=================================================================\n",
            "Total params: 32,476,275\n",
            "Trainable params: 32,475,437\n",
            "Non-trainable params: 838\n",
            "_________________________________________________________________\n"
          ],
          "name": "stdout"
        }
      ]
    },
    {
      "cell_type": "code",
      "metadata": {
        "id": "-FNJrYyi0XYe"
      },
      "source": [
        "vae.compile(optimizer=tf.keras.optimizers.Adam(lr=0.00005), loss=tf.keras.losses.mae)"
      ],
      "execution_count": null,
      "outputs": []
    },
    {
      "cell_type": "code",
      "metadata": {
        "id": "ncpYGwY60aYO"
      },
      "source": [
        "(x_train, y_train), (x_test, y_test) = (data_validation, labels_validation), (data_test, labels_test)\n"
      ],
      "execution_count": null,
      "outputs": []
    },
    {
      "cell_type": "code",
      "metadata": {
        "id": "OtGkzldI01vf"
      },
      "source": [
        "def convert_to_size(desiredX, desiredY, data):\n",
        "  padded_images = []\n",
        "  for img in data:\n",
        "      shape = img.shape\n",
        "      xDiff = desiredX - shape[0]\n",
        "      xLeft = xDiff//2\n",
        "      xRight = xDiff-xLeft\n",
        "\n",
        "      yDiff = desiredY - shape[1]\n",
        "      yLeft = yDiff//2\n",
        "      yRight = yDiff - yLeft\n",
        "\n",
        "      padded_images.append(np.pad(img,((xLeft,xRight),(yLeft,yRight),(0,0)), mode='constant'))\n",
        "  padded_images = np.array(padded_images)\n",
        "  return padded_images"
      ],
      "execution_count": null,
      "outputs": []
    },
    {
      "cell_type": "code",
      "metadata": {
        "id": "vnIWpuVS1mOw"
      },
      "source": [
        "x_train = convert_to_size(56, 48, x_train)\n",
        "x_test = convert_to_size(56, 48, x_test)\n",
        "x_poisoned = convert_to_size(56, 48, data_poisoned)\n",
        "x_anonymous = convert_to_size(56, 48, data_anonymous)\n",
        "x_sunglasses = convert_to_size(56, 48, data_poisoned_sunglasses)\n",
        "x_eyebrows = convert_to_size(56, 48, data_poisoned_eyebrows)\n",
        "x_lipstick = convert_to_size(56, 48, data_poisoned_lipstick)"
      ],
      "execution_count": null,
      "outputs": []
    },
    {
      "cell_type": "code",
      "metadata": {
        "colab": {
          "base_uri": "https://localhost:8080/"
        },
        "id": "uOSvAbyR00fM",
        "outputId": "8d1adad3-0e07-4018-e163-5c1d12baade9"
      },
      "source": [
        "history = vae.fit(x_train, x_train, epochs=5, batch_size=32, shuffle=True)"
      ],
      "execution_count": null,
      "outputs": [
        {
          "output_type": "stream",
          "text": [
            "Epoch 1/5\n",
            "361/361 [==============================] - 8s 16ms/step - loss: 0.2546\n",
            "Epoch 2/5\n",
            "361/361 [==============================] - 6s 15ms/step - loss: 0.0814\n",
            "Epoch 3/5\n",
            "361/361 [==============================] - 6s 15ms/step - loss: 0.0672\n",
            "Epoch 4/5\n",
            "361/361 [==============================] - 6s 15ms/step - loss: 0.0604\n",
            "Epoch 5/5\n",
            "361/361 [==============================] - 6s 15ms/step - loss: 0.0575\n"
          ],
          "name": "stdout"
        }
      ]
    },
    {
      "cell_type": "code",
      "metadata": {
        "id": "MKQ9rLhJ3dIx"
      },
      "source": [
        "encoded_data = encoder.predict(x_test)\n",
        "decoded_data = decoder.predict(encoded_data)"
      ],
      "execution_count": null,
      "outputs": []
    },
    {
      "cell_type": "markdown",
      "metadata": {
        "id": "Y_-2-hqGnxNF"
      },
      "source": [
        "##LOSS vs EPOCH"
      ]
    },
    {
      "cell_type": "code",
      "metadata": {
        "colab": {
          "base_uri": "https://localhost:8080/",
          "height": 285
        },
        "id": "3ON1IAJWv6Sa",
        "outputId": "6b1bf10e-a3b5-4337-b4c9-a12905be752e"
      },
      "source": [
        "plt.plot(history.history[\"loss\"], label=\"Training Loss\")\n",
        "plt.legend()"
      ],
      "execution_count": null,
      "outputs": [
        {
          "output_type": "execute_result",
          "data": {
            "text/plain": [
              "<matplotlib.legend.Legend at 0x7fb0c2fee390>"
            ]
          },
          "metadata": {
            "tags": []
          },
          "execution_count": 20
        },
        {
          "output_type": "display_data",
          "data": {
            "image/png": "[encoded data removed]",
            "text/plain": [
              "<Figure size 432x288 with 1 Axes>"
            ]
          },
          "metadata": {
            "tags": [],
            "needs_background": "light"
          }
        }
      ]
    },
    {
      "cell_type": "markdown",
      "metadata": {
        "id": "LHIphhm7Vp2V"
      },
      "source": [
        "### Saving the model and encoder, decoder"
      ]
    },
    {
      "cell_type": "code",
      "metadata": {
        "id": "SE8-R2XoV4pj"
      },
      "source": [
        "# encoder.save(filepath=\"/content/drive/MyDrive/VAE_model/VAE_encoder.h5\", overwrite=True, save_format='h5') \n",
        "# decoder.save(filepath=\"/content/drive/MyDrive/VAE_model/VAE_decoder.h5\", overwrite=True, save_format='h5') \n",
        "# vae.save(filepath=\"/content/drive/MyDrive/VAE_model/VAE.h5\", overwrite=True, save_format='h5')"
      ],
      "execution_count": null,
      "outputs": []
    },
    {
      "cell_type": "markdown",
      "metadata": {
        "id": "Jczmku9oqlUX"
      },
      "source": [
        "Sample Eyebrow Poisoned Image"
      ]
    },
    {
      "cell_type": "code",
      "metadata": {
        "id": "LynakBsk1Mcz",
        "colab": {
          "base_uri": "https://localhost:8080/",
          "height": 267
        },
        "outputId": "b5fd1467-6247-4163-818e-0b3eb731f414"
      },
      "source": [
        "poisoned_data_img = convert_to_size(56, 48, [x_eyebrows[100]])\n",
        "plt.imshow(poisoned_data_img.reshape(56, 48, 3));"
      ],
      "execution_count": null,
      "outputs": [
        {
          "output_type": "display_data",
          "data": {
            "image/png": "[encoded data removed]",
            "text/plain": [
              "<Figure size 432x288 with 1 Axes>"
            ]
          },
          "metadata": {
            "tags": [],
            "needs_background": "light"
          }
        }
      ]
    },
    {
      "cell_type": "markdown",
      "metadata": {
        "id": "pkN07Jf1qoaL"
      },
      "source": [
        "Reconstrcuted Eyebrow Image"
      ]
    },
    {
      "cell_type": "code",
      "metadata": {
        "id": "6O67YJmJsTPj",
        "colab": {
          "base_uri": "https://localhost:8080/",
          "height": 284
        },
        "outputId": "3cc4eacd-4ee8-4ff4-f2f5-0fcdf4e09d53"
      },
      "source": [
        "poisoned_data_img = poisoned_data_img.reshape(1, 56, 48, 3)\n",
        "poisoned_data = encoder.predict(poisoned_data_img)\n",
        "poisoned_decoded_output = decoder.predict(poisoned_data)\n",
        "plt.imshow(poisoned_decoded_output.reshape(56,48,3));"
      ],
      "execution_count": null,
      "outputs": [
        {
          "output_type": "stream",
          "text": [
            "Clipping input data to the valid range for imshow with RGB data ([0..1] for floats or [0..255] for integers).\n"
          ],
          "name": "stderr"
        },
        {
          "output_type": "display_data",
          "data": {
            "image/png": "[encoded data removed]",
            "text/plain": [
              "<Figure size 432x288 with 1 Axes>"
            ]
          },
          "metadata": {
            "tags": [],
            "needs_background": "light"
          }
        }
      ]
    },
    {
      "cell_type": "code",
      "metadata": {
        "colab": {
          "base_uri": "https://localhost:8080/"
        },
        "id": "wPR9Vk2asxWj",
        "outputId": "2c180786-9938-451c-b87a-50294bdfb011"
      },
      "source": [
        "final_threshold = 0\n",
        "all_data = [x_train, x_test, x_poisoned, x_sunglasses, x_lipstick, x_anonymous, x_eyebrows]\n",
        "names = [\"x_train\", \"x_test\", \"x_poisoned\", \"x_sunglasses\", \"x_lipstick\", \"x_anonymous\", \"x_eyebrows\"]\n",
        "for data, name  in zip(all_data, names):\n",
        "  reconstructions = vae.predict(data).astype('float32')\n",
        "  data = data.astype('float32')\n",
        "  train_loss = tf.keras.losses.mae(reconstructions, data)\n",
        "  threshold = np.mean(train_loss) + np.std(train_loss)\n",
        "  print(\"Reconstruction loss for\",name,\":\", threshold,  \"\\n\")\n",
        "  if name == \"x_train\" or name == \"x_test\":\n",
        "    final_threshold = max(final_threshold, threshold)"
      ],
      "execution_count": null,
      "outputs": [
        {
          "output_type": "stream",
          "text": [
            "Reconstruction loss for x_train : 0.09597464 \n",
            "\n",
            "Reconstruction loss for x_test : 0.09690079 \n",
            "\n",
            "Reconstruction loss for x_poisoned : 0.20103425 \n",
            "\n",
            "Reconstruction loss for x_sunglasses : 0.20100993 \n",
            "\n",
            "Reconstruction loss for x_lipstick : 0.10481995 \n",
            "\n",
            "Reconstruction loss for x_anonymous : 0.104821034 \n",
            "\n",
            "Reconstruction loss for x_eyebrows : 0.11117971 \n",
            "\n"
          ],
          "name": "stdout"
        }
      ]
    },
    {
      "cell_type": "code",
      "metadata": {
        "id": "tTKDkwL23TKr",
        "colab": {
          "base_uri": "https://localhost:8080/"
        },
        "outputId": "b25625b8-9bbd-4090-95e1-a05de78440ee"
      },
      "source": [
        "final_threshold"
      ],
      "execution_count": null,
      "outputs": [
        {
          "output_type": "execute_result",
          "data": {
            "text/plain": [
              "0.09690079"
            ]
          },
          "metadata": {
            "tags": []
          },
          "execution_count": 25
        }
      ]
    },
    {
      "cell_type": "code",
      "metadata": {
        "id": "nhdwnjEAXdSs"
      },
      "source": [
        "def predict(model, data, threshold):\n",
        "  reconstructions = model(data)\n",
        "  labels = np.empty(threshold.shape)\n",
        "  result = []\n",
        "  for reconstruction, image in zip(reconstructions, data):\n",
        "    loss = tf.keras.losses.mae(reconstruction, image)\n",
        "    loss = np.mean(loss) + np.std(loss)\n",
        "    # loss = np.mean(loss) + np.std(loss)\n",
        "    valid = True if loss>threshold[0] else False\n",
        "    result.append(valid)\n",
        "  return np.array(result)"
      ],
      "execution_count": null,
      "outputs": []
    },
    {
      "cell_type": "code",
      "metadata": {
        "colab": {
          "base_uri": "https://localhost:8080/"
        },
        "id": "4HDfeATGywyg",
        "outputId": "1b4f9b85-b07d-4988-97be-5169bf3a6d04"
      },
      "source": [
        "all_data = [x_train, x_test, x_poisoned, x_sunglasses, x_lipstick, x_anonymous]\n",
        "names = [\"x_train\", \"x_test\", \"x_poisoned\", \"x_sunglasses\", \"x_lipstick\", \"x_anonymous\"]\n",
        "for data, name in zip(all_data, names):\n",
        "  thresholds = np.array([final_threshold]*2000)\n",
        "  preds = predict(vae, data[:2000], thresholds)\n",
        "  count = Counter(preds)\n",
        "  print(\"Predictions for \",name,\":\", count,  \"\\n\")"
      ],
      "execution_count": null,
      "outputs": [
        {
          "output_type": "stream",
          "text": [
            "Predictions for  x_train : Counter({False: 1247, True: 753}) \n",
            "\n",
            "Predictions for  x_test : Counter({False: 1198, True: 802}) \n",
            "\n",
            "Predictions for  x_poisoned : Counter({True: 2000}) \n",
            "\n",
            "Predictions for  x_sunglasses : Counter({True: 2000}) \n",
            "\n",
            "Predictions for  x_lipstick : Counter({True: 1061, False: 939}) \n",
            "\n",
            "Predictions for  x_anonymous : Counter({True: 1059, False: 941}) \n",
            "\n"
          ],
          "name": "stdout"
        }
      ]
    },
    {
      "cell_type": "code",
      "metadata": {
        "id": "yOkGbaDJD2It",
        "colab": {
          "base_uri": "https://localhost:8080/"
        },
        "outputId": "e882f16b-6a5a-4a93-ccae-9254d4d51ec7"
      },
      "source": [
        "all_data = [x_train, x_test, x_poisoned, x_sunglasses, x_lipstick, x_anonymous]\n",
        "names = [\"x_train\", \"x_test\", \"x_poisoned\", \"x_sunglasses\", \"x_lipstick\", \"x_anonymous\"]\n",
        "for data, name in zip(all_data, names):\n",
        "  thresholds = np.array([final_threshold]*4000)\n",
        "  preds = predict(vae, data[:4000], thresholds)\n",
        "  count = Counter(preds)\n",
        "  print(\"Predictions for \",name,\":\", count,  \"\\n\")"
      ],
      "execution_count": null,
      "outputs": [
        {
          "output_type": "stream",
          "text": [
            "Predictions for  x_train : Counter({False: 2480, True: 1520}) \n",
            "\n",
            "Predictions for  x_test : Counter({False: 2441, True: 1559}) \n",
            "\n",
            "Predictions for  x_poisoned : Counter({True: 4000}) \n",
            "\n",
            "Predictions for  x_sunglasses : Counter({True: 4000}) \n",
            "\n",
            "Predictions for  x_lipstick : Counter({True: 2145, False: 1855}) \n",
            "\n",
            "Predictions for  x_anonymous : Counter({True: 2140, False: 1860}) \n",
            "\n"
          ],
          "name": "stdout"
        }
      ]
    },
    {
      "cell_type": "markdown",
      "metadata": {
        "id": "vUC5d1JJXyc1"
      },
      "source": [
        "# METHOD - 2 - Retraining with generated poisoned data"
      ]
    },
    {
      "cell_type": "markdown",
      "metadata": {
        "id": "-uc8yCUNid5D"
      },
      "source": [
        "# Altered Training Data\n",
        "\n",
        "Generating adversarial images and adding it to our dataset"
      ]
    },
    {
      "cell_type": "code",
      "metadata": {
        "id": "GkcWmfXOxD1S"
      },
      "source": [
        "import matplotlib.pyplot as plt\n",
        "def adversarial_pattern(image, label):\n",
        "  image = tf.convert_to_tensor(image, dtype=tf.float32)\n",
        "  with tf.GradientTape() as tape:\n",
        "      tape.watch(image)\n",
        "      prediction = bd_model(image)\n",
        "      loss = tf.keras.losses.MSE(label, prediction)\n",
        "  gradient = tape.gradient(loss, image)\n",
        "  signed_grad = tf.sign(gradient)\n",
        "  return signed_grad"
      ],
      "execution_count": null,
      "outputs": []
    },
    {
      "cell_type": "markdown",
      "metadata": {
        "id": "nsAxhS2tXKhY"
      },
      "source": [
        "Generating data for retraining model"
      ]
    },
    {
      "cell_type": "code",
      "metadata": {
        "id": "43cCnDOWijjh",
        "colab": {
          "base_uri": "https://localhost:8080/"
        },
        "outputId": "a23b84a2-79f4-4cb9-ae6d-5c912ec44201"
      },
      "source": [
        "\n",
        "altered_data = []\n",
        "altered_pred = []\n",
        "for index, image in enumerate(data_validation):\n",
        "  if index % 500 == 0:\n",
        "      print(\"{}% complete\".format(int(100 * index / len(data_validation))))\n",
        "  perturbations = adversarial_pattern(image.reshape(1, 55, 47, 3), labels_validation[index]).numpy()\n",
        "  adversarial = image + perturbations * .15\n",
        "  adversarial = tf.clip_by_value(adversarial, -1, 1).numpy()\n",
        "  altered_data.append(adversarial)\n",
        "  altered_pred.append(1)\n"
      ],
      "execution_count": null,
      "outputs": [
        {
          "output_type": "stream",
          "text": [
            "0% complete\n",
            "4% complete\n",
            "8% complete\n",
            "12% complete\n",
            "17% complete\n",
            "21% complete\n",
            "25% complete\n",
            "30% complete\n",
            "34% complete\n",
            "38% complete\n",
            "43% complete\n",
            "47% complete\n",
            "51% complete\n",
            "56% complete\n",
            "60% complete\n",
            "64% complete\n",
            "69% complete\n",
            "73% complete\n",
            "77% complete\n",
            "82% complete\n",
            "86% complete\n",
            "90% complete\n",
            "95% complete\n",
            "99% complete\n"
          ],
          "name": "stdout"
        }
      ]
    },
    {
      "cell_type": "code",
      "metadata": {
        "id": "4ujD5pUJ-lq7"
      },
      "source": [
        "altered_data = np.array(altered_data).reshape(11547, 55, 47, 3)\n",
        "altered_pred = np.array(altered_pred)"
      ],
      "execution_count": null,
      "outputs": []
    },
    {
      "cell_type": "markdown",
      "metadata": {
        "id": "SSJzbgTAW-BZ"
      },
      "source": [
        "Sample altered data"
      ]
    },
    {
      "cell_type": "code",
      "metadata": {
        "id": "vnL33n82kctk",
        "colab": {
          "base_uri": "https://localhost:8080/",
          "height": 301
        },
        "outputId": "ca790786-6f63-499c-9dfe-7e2b2eda37d0"
      },
      "source": [
        "plt.imshow(altered_data[9]);"
      ],
      "execution_count": null,
      "outputs": [
        {
          "output_type": "stream",
          "text": [
            "Clipping input data to the valid range for imshow with RGB data ([0..1] for floats or [0..255] for integers).\n"
          ],
          "name": "stderr"
        },
        {
          "output_type": "execute_result",
          "data": {
            "text/plain": [
              "<matplotlib.image.AxesImage at 0x7fd25c757a58>"
            ]
          },
          "metadata": {
            "tags": []
          },
          "execution_count": 27
        },
        {
          "output_type": "display_data",
          "data": {
            "image/png": "[encoded data removed]",
            "text/plain": [
              "<Figure size 432x288 with 1 Axes>"
            ]
          },
          "metadata": {
            "tags": [],
            "needs_background": "light"
          }
        }
      ]
    },
    {
      "cell_type": "markdown",
      "metadata": {
        "id": "6CXbskWOXAgq"
      },
      "source": [
        "Sample unaltered data"
      ]
    },
    {
      "cell_type": "code",
      "metadata": {
        "id": "2Ao9Qm13rxnU",
        "colab": {
          "base_uri": "https://localhost:8080/",
          "height": 284
        },
        "outputId": "78a0615f-3c12-48be-c45c-ce0774419991"
      },
      "source": [
        "plt.imshow(data_validation[9])"
      ],
      "execution_count": null,
      "outputs": [
        {
          "output_type": "execute_result",
          "data": {
            "text/plain": [
              "<matplotlib.image.AxesImage at 0x7fd25c6fc198>"
            ]
          },
          "metadata": {
            "tags": []
          },
          "execution_count": 28
        },
        {
          "output_type": "display_data",
          "data": {
            "image/png": "[encoded data removed]",
            "text/plain": [
              "<Figure size 432x288 with 1 Axes>"
            ]
          },
          "metadata": {
            "tags": [],
            "needs_background": "light"
          }
        }
      ]
    },
    {
      "cell_type": "code",
      "metadata": {
        "id": "46UEZkDNFzts",
        "colab": {
          "base_uri": "https://localhost:8080/"
        },
        "outputId": "58113344-1b8f-4e52-b87b-97b91b5e747e"
      },
      "source": [
        "newCleanLabel = [0]*11547\n",
        "newCleanLabel = np.array(newCleanLabel)"
      ],
      "execution_count": null,
      "outputs": [
        {
          "output_type": "execute_result",
          "data": {
            "text/plain": [
              "(11547,)"
            ]
          },
          "metadata": {
            "tags": []
          },
          "execution_count": 34
        }
      ]
    },
    {
      "cell_type": "markdown",
      "metadata": {
        "id": "3bP5yMerWykQ"
      },
      "source": [
        "New Training data with generated data\n"
      ]
    },
    {
      "cell_type": "code",
      "metadata": {
        "id": "92J70MXC6V5q",
        "colab": {
          "base_uri": "https://localhost:8080/"
        },
        "outputId": "c376a473-0d78-49de-ee20-b30fa3ec0ba6"
      },
      "source": [
        "x_train = np.append(data_validation, altered_data, axis=0)\n",
        "y_train = np.append(newCleanLabel, altered_pred, axis=0)\n",
        "print(x_train.shape, y_train.shape)"
      ],
      "execution_count": null,
      "outputs": [
        {
          "output_type": "stream",
          "text": [
            "(23094, 55, 47, 3) (23094,)\n"
          ],
          "name": "stdout"
        }
      ]
    },
    {
      "cell_type": "markdown",
      "metadata": {
        "id": "atqBBt5pzn_n"
      },
      "source": [
        "### Training the repaired model with Tainted/Generated Data "
      ]
    },
    {
      "cell_type": "code",
      "metadata": {
        "id": "lTvO0xLRzKSS"
      },
      "source": [
        "from keras.layers.normalization import BatchNormalization\n",
        "import keras\n",
        "import keras.backend as K\n",
        "from keras import initializers, Sequential\n",
        "\n",
        "\n",
        "def Net():\n",
        "\t# define input\n",
        "  x = keras.Input(shape=(55, 47, 3), name='input')\n",
        "  # feature extraction\n",
        "  conv_1 = keras.layers.Conv2D(20, (4, 4), activation='relu', name='conv_1')(x)\n",
        "  pool_1 = keras.layers.MaxPooling2D((2, 2), name='pool_1')(conv_1)\n",
        "  conv_2 = keras.layers.Conv2D(40, (3, 3), activation='relu', name='conv_2')(pool_1)\n",
        "  pool_2 = keras.layers.MaxPooling2D((2, 2), name='pool_2')(conv_2)\n",
        "\n",
        "  conv_3 = keras.layers.Conv2D(60, (3, 3), activation='relu', name='conv_3')(pool_2)\n",
        "  pool_3 = keras.layers.MaxPooling2D((2, 2), name='pool_3')(conv_3)\n",
        "\n",
        "  # first interpretation model\n",
        "  flat_1 = keras.layers.Flatten()(pool_3)\t\n",
        "  fc_1 = keras.layers.Dense(160, name='fc_1')(flat_1)\n",
        "\n",
        "  # second interpretation model\n",
        "  conv_4 = keras.layers.Conv2D(80, (2, 2), activation='relu', name='conv_4')(pool_3)\n",
        "  flat_2 = keras.layers.Flatten()(conv_4)\n",
        "  fc_2 = keras.layers.Dense(160, name='fc_2')(flat_2)\n",
        "  # merge interpretation\n",
        "  merge = keras.layers.Add()([fc_1, fc_2])\n",
        "  \n",
        "  add_1 = keras.layers.Activation('relu')(merge)\n",
        "  \n",
        "  batch_norm = keras.layers.BatchNormalization()(add_1)\n",
        "\n",
        "  drop = keras.layers.Dropout(0.5)\n",
        "  # output\n",
        "  y_hat = keras.layers.Dense(2566, activation='softmax', name='output')(batch_norm)\n",
        "  model = keras.Model(inputs=x, outputs=y_hat)\n",
        "\n",
        "  return model"
      ],
      "execution_count": null,
      "outputs": []
    },
    {
      "cell_type": "code",
      "metadata": {
        "id": "kWy4B0hJ1y5O",
        "colab": {
          "base_uri": "https://localhost:8080/"
        },
        "outputId": "e06c3ef5-6565-40ec-ea9c-dc12b7e8f1ff"
      },
      "source": [
        "K.clear_session()\n",
        "g_model = Net()\n",
        "g_model.compile(optimizer='adam',\n",
        "              loss=tf.keras.losses.SparseCategoricalCrossentropy(from_logits=True),\n",
        "              metrics=['accuracy'])\n",
        "g_model.fit(\n",
        "    x_train,\n",
        "    y_train,\n",
        "    batch_size=64,\n",
        "    epochs=20\n",
        ")"
      ],
      "execution_count": null,
      "outputs": [
        {
          "output_type": "stream",
          "text": [
            "Epoch 1/20\n",
            "361/361 [==============================] - 3s 7ms/step - loss: 2.0526 - accuracy: 0.9501\n",
            "Epoch 2/20\n",
            "361/361 [==============================] - 2s 7ms/step - loss: 0.0032 - accuracy: 1.0000\n",
            "Epoch 3/20\n",
            "361/361 [==============================] - 2s 6ms/step - loss: 0.0013 - accuracy: 1.0000\n",
            "Epoch 4/20\n",
            "361/361 [==============================] - 2s 6ms/step - loss: 5.6076e-04 - accuracy: 1.0000\n",
            "Epoch 5/20\n",
            "361/361 [==============================] - 2s 7ms/step - loss: 3.2715e-04 - accuracy: 1.0000\n",
            "Epoch 6/20\n",
            "361/361 [==============================] - 2s 7ms/step - loss: 0.0036 - accuracy: 0.9997\n",
            "Epoch 7/20\n",
            "361/361 [==============================] - 2s 7ms/step - loss: 0.0025 - accuracy: 0.9997\n",
            "Epoch 8/20\n",
            "361/361 [==============================] - 2s 6ms/step - loss: 1.4745e-04 - accuracy: 1.0000\n",
            "Epoch 9/20\n",
            "361/361 [==============================] - 2s 6ms/step - loss: 1.3896e-04 - accuracy: 1.0000\n",
            "Epoch 10/20\n",
            "361/361 [==============================] - 2s 7ms/step - loss: 7.8093e-05 - accuracy: 1.0000\n",
            "Epoch 11/20\n",
            "361/361 [==============================] - 2s 7ms/step - loss: 2.5474e-04 - accuracy: 1.0000\n",
            "Epoch 12/20\n",
            "361/361 [==============================] - 2s 6ms/step - loss: 8.1748e-04 - accuracy: 0.9998\n",
            "Epoch 13/20\n",
            "361/361 [==============================] - 2s 7ms/step - loss: 9.2184e-04 - accuracy: 0.9997\n",
            "Epoch 14/20\n",
            "361/361 [==============================] - 2s 7ms/step - loss: 1.4216e-04 - accuracy: 1.0000\n",
            "Epoch 15/20\n",
            "361/361 [==============================] - 2s 6ms/step - loss: 1.4999e-04 - accuracy: 1.0000\n",
            "Epoch 16/20\n",
            "361/361 [==============================] - 2s 6ms/step - loss: 2.1666e-04 - accuracy: 1.0000\n",
            "Epoch 17/20\n",
            "361/361 [==============================] - 2s 7ms/step - loss: 5.7093e-05 - accuracy: 1.0000\n",
            "Epoch 18/20\n",
            "361/361 [==============================] - 2s 6ms/step - loss: 4.8083e-05 - accuracy: 1.0000\n",
            "Epoch 19/20\n",
            "361/361 [==============================] - 2s 7ms/step - loss: 2.4958e-05 - accuracy: 1.0000\n",
            "Epoch 20/20\n",
            "361/361 [==============================] - 2s 7ms/step - loss: 2.5071e-05 - accuracy: 1.0000\n"
          ],
          "name": "stdout"
        },
        {
          "output_type": "execute_result",
          "data": {
            "text/plain": [
              "<tensorflow.python.keras.callbacks.History at 0x7fd25c3892b0>"
            ]
          },
          "metadata": {
            "tags": []
          },
          "execution_count": 39
        }
      ]
    },
    {
      "cell_type": "code",
      "metadata": {
        "id": "6QAf9kyGUz8Z",
        "colab": {
          "base_uri": "https://localhost:8080/",
          "height": 284
        },
        "outputId": "0348962a-9074-4669-98c8-c5d41c55a3a0"
      },
      "source": [
        "plt.imshow(x_train[15395])"
      ],
      "execution_count": null,
      "outputs": [
        {
          "output_type": "stream",
          "text": [
            "Clipping input data to the valid range for imshow with RGB data ([0..1] for floats or [0..255] for integers).\n"
          ],
          "name": "stderr"
        },
        {
          "output_type": "display_data",
          "data": {
            "image/png": "[encoded data removed]",
            "text/plain": [
              "<Figure size 432x288 with 1 Axes>"
            ]
          },
          "metadata": {
            "tags": [],
            "needs_background": "light"
          }
        }
      ]
    },
    {
      "cell_type": "markdown",
      "metadata": {
        "id": "wCWt8ybJWNwq"
      },
      "source": [
        "Prediction by Trained Model: 0->Untainted 1->Tainted"
      ]
    },
    {
      "cell_type": "code",
      "metadata": {
        "id": "5sqnoRANByte",
        "colab": {
          "base_uri": "https://localhost:8080/"
        },
        "outputId": "cfe2f8f0-abb3-497b-c494-28d1d5a0ff78"
      },
      "source": [
        "g_model.predict(data_poisoned[0].reshape(1,55,47,3)).argmax()"
      ],
      "execution_count": null,
      "outputs": [
        {
          "output_type": "execute_result",
          "data": {
            "text/plain": [
              "0"
            ]
          },
          "metadata": {
            "tags": []
          },
          "execution_count": 42
        }
      ]
    },
    {
      "cell_type": "markdown",
      "metadata": {
        "id": "DgK_ewGzYMi0"
      },
      "source": [
        "# METHOD - 3 - Pruning"
      ]
    },
    {
      "cell_type": "code",
      "metadata": {
        "id": "gcs3WIBoZB2p",
        "colab": {
          "base_uri": "https://localhost:8080/"
        },
        "outputId": "cfc1cb66-5d01-4973-dfb4-a3b826481da6"
      },
      "source": [
        "bd_model = keras.models.load_model('./models/sunglasses_bd_net.h5')\n",
        "bd_model.load_weights('./models/sunglasses_bd_weights.h5')\n",
        "# bd_anonymous = keras.models.load_model('./models/anonymous_bd_net.h5')\n",
        "bd_model.summary()"
      ],
      "execution_count": 9,
      "outputs": [
        {
          "output_type": "stream",
          "text": [
            "Model: \"model_1\"\n",
            "__________________________________________________________________________________________________\n",
            "Layer (type)                    Output Shape         Param #     Connected to                     \n",
            "==================================================================================================\n",
            "input (InputLayer)              [(None, 55, 47, 3)]  0                                            \n",
            "__________________________________________________________________________________________________\n",
            "conv_1 (Conv2D)                 (None, 52, 44, 20)   980         input[0][0]                      \n",
            "__________________________________________________________________________________________________\n",
            "pool_1 (MaxPooling2D)           (None, 26, 22, 20)   0           conv_1[0][0]                     \n",
            "__________________________________________________________________________________________________\n",
            "conv_2 (Conv2D)                 (None, 24, 20, 40)   7240        pool_1[0][0]                     \n",
            "__________________________________________________________________________________________________\n",
            "pool_2 (MaxPooling2D)           (None, 12, 10, 40)   0           conv_2[0][0]                     \n",
            "__________________________________________________________________________________________________\n",
            "conv_3 (Conv2D)                 (None, 10, 8, 60)    21660       pool_2[0][0]                     \n",
            "__________________________________________________________________________________________________\n",
            "pool_3 (MaxPooling2D)           (None, 5, 4, 60)     0           conv_3[0][0]                     \n",
            "__________________________________________________________________________________________________\n",
            "conv_4 (Conv2D)                 (None, 4, 3, 80)     19280       pool_3[0][0]                     \n",
            "__________________________________________________________________________________________________\n",
            "flatten_1 (Flatten)             (None, 1200)         0           pool_3[0][0]                     \n",
            "__________________________________________________________________________________________________\n",
            "flatten_2 (Flatten)             (None, 960)          0           conv_4[0][0]                     \n",
            "__________________________________________________________________________________________________\n",
            "fc_1 (Dense)                    (None, 160)          192160      flatten_1[0][0]                  \n",
            "__________________________________________________________________________________________________\n",
            "fc_2 (Dense)                    (None, 160)          153760      flatten_2[0][0]                  \n",
            "__________________________________________________________________________________________________\n",
            "add_1 (Add)                     (None, 160)          0           fc_1[0][0]                       \n",
            "                                                                 fc_2[0][0]                       \n",
            "__________________________________________________________________________________________________\n",
            "activation_1 (Activation)       (None, 160)          0           add_1[0][0]                      \n",
            "__________________________________________________________________________________________________\n",
            "output (Dense)                  (None, 1283)         206563      activation_1[0][0]               \n",
            "==================================================================================================\n",
            "Total params: 601,643\n",
            "Trainable params: 601,643\n",
            "Non-trainable params: 0\n",
            "__________________________________________________________________________________________________\n"
          ],
          "name": "stdout"
        }
      ]
    },
    {
      "cell_type": "code",
      "metadata": {
        "colab": {
          "base_uri": "https://localhost:8080/"
        },
        "id": "zx_NTGGidL5E",
        "outputId": "4a8bcb8f-ccfc-446c-bbfe-1b1cb80ce442"
      },
      "source": [
        "!pip install -q tensorflow-model-optimization"
      ],
      "execution_count": 1,
      "outputs": [
        {
          "output_type": "stream",
          "text": [
            "\u001b[?25l\r\u001b[K     |██                              | 10kB 22.9MB/s eta 0:00:01\r\u001b[K     |███▉                            | 20kB 25.1MB/s eta 0:00:01\r\u001b[K     |█████▊                          | 30kB 17.4MB/s eta 0:00:01\r\u001b[K     |███████▋                        | 40kB 15.1MB/s eta 0:00:01\r\u001b[K     |█████████▌                      | 51kB 10.4MB/s eta 0:00:01\r\u001b[K     |███████████▍                    | 61kB 11.2MB/s eta 0:00:01\r\u001b[K     |█████████████▎                  | 71kB 10.9MB/s eta 0:00:01\r\u001b[K     |███████████████▏                | 81kB 11.9MB/s eta 0:00:01\r\u001b[K     |█████████████████               | 92kB 11.1MB/s eta 0:00:01\r\u001b[K     |███████████████████             | 102kB 9.9MB/s eta 0:00:01\r\u001b[K     |████████████████████▉           | 112kB 9.9MB/s eta 0:00:01\r\u001b[K     |██████████████████████▊         | 122kB 9.9MB/s eta 0:00:01\r\u001b[K     |████████████████████████▊       | 133kB 9.9MB/s eta 0:00:01\r\u001b[K     |██████████████████████████▋     | 143kB 9.9MB/s eta 0:00:01\r\u001b[K     |████████████████████████████▌   | 153kB 9.9MB/s eta 0:00:01\r\u001b[K     |██████████████████████████████▍ | 163kB 9.9MB/s eta 0:00:01\r\u001b[K     |████████████████████████████████| 174kB 9.9MB/s \n",
            "\u001b[?25h"
          ],
          "name": "stdout"
        }
      ]
    },
    {
      "cell_type": "code",
      "metadata": {
        "colab": {
          "base_uri": "https://localhost:8080/"
        },
        "id": "DM-9iZDfdOle",
        "outputId": "cb86f244-c7ab-4a97-e192-9af7563bde68"
      },
      "source": [
        "import tensorflow_model_optimization as tfmot\n",
        "\n",
        "prune_low_magnitude = tfmot.sparsity.keras.prune_low_magnitude\n",
        "# Compute end step to finish pruning after 2 epochs.\n",
        "batch_size = 128\n",
        "epochs = 2\n",
        "validation_split = 0.1 # 10% of training set will be used for validation set. \n",
        "\n",
        "num_images = data_validation.shape[0] * (1 - validation_split)\n",
        "end_step = np.ceil(num_images / batch_size).astype(np.int32) * epochs\n",
        "\n",
        "# Define model for pruning.\n",
        "pruning_params = {\n",
        "      'pruning_schedule': tfmot.sparsity.keras.PolynomialDecay(initial_sparsity=0.50,\n",
        "                                                               final_sparsity=0.80,\n",
        "                                                               begin_step=0,\n",
        "                                                               end_step=end_step)\n",
        "}\n",
        "\n",
        "pruned_model = prune_low_magnitude(bd_model, **pruning_params)\n",
        "\n",
        "# `prune_low_magnitude` requires a recompile.\n",
        "pruned_model.compile(optimizer='adam',\n",
        "              loss=tf.keras.losses.SparseCategoricalCrossentropy(from_logits=True),\n",
        "              metrics=['accuracy'])\n",
        "\n",
        "pruned_model.summary()"
      ],
      "execution_count": 10,
      "outputs": [
        {
          "output_type": "stream",
          "text": [
            "/usr/local/lib/python3.6/dist-packages/tensorflow/python/keras/engine/base_layer.py:2281: UserWarning: `layer.add_variable` is deprecated and will be removed in a future version. Please use `layer.add_weight` method instead.\n",
            "  warnings.warn('`layer.add_variable` is deprecated and '\n"
          ],
          "name": "stderr"
        },
        {
          "output_type": "stream",
          "text": [
            "Model: \"model_1\"\n",
            "__________________________________________________________________________________________________\n",
            "Layer (type)                    Output Shape         Param #     Connected to                     \n",
            "==================================================================================================\n",
            "input (InputLayer)              [(None, 55, 47, 3)]  0                                            \n",
            "__________________________________________________________________________________________________\n",
            "prune_low_magnitude_conv_1 (Pru (None, 52, 44, 20)   1942        input[0][0]                      \n",
            "__________________________________________________________________________________________________\n",
            "prune_low_magnitude_pool_1 (Pru (None, 26, 22, 20)   1           prune_low_magnitude_conv_1[0][0] \n",
            "__________________________________________________________________________________________________\n",
            "prune_low_magnitude_conv_2 (Pru (None, 24, 20, 40)   14442       prune_low_magnitude_pool_1[0][0] \n",
            "__________________________________________________________________________________________________\n",
            "prune_low_magnitude_pool_2 (Pru (None, 12, 10, 40)   1           prune_low_magnitude_conv_2[0][0] \n",
            "__________________________________________________________________________________________________\n",
            "prune_low_magnitude_conv_3 (Pru (None, 10, 8, 60)    43262       prune_low_magnitude_pool_2[0][0] \n",
            "__________________________________________________________________________________________________\n",
            "prune_low_magnitude_pool_3 (Pru (None, 5, 4, 60)     1           prune_low_magnitude_conv_3[0][0] \n",
            "__________________________________________________________________________________________________\n",
            "prune_low_magnitude_conv_4 (Pru (None, 4, 3, 80)     38482       prune_low_magnitude_pool_3[0][0] \n",
            "__________________________________________________________________________________________________\n",
            "prune_low_magnitude_flatten_1 ( (None, 1200)         1           prune_low_magnitude_pool_3[0][0] \n",
            "__________________________________________________________________________________________________\n",
            "prune_low_magnitude_flatten_2 ( (None, 960)          1           prune_low_magnitude_conv_4[0][0] \n",
            "__________________________________________________________________________________________________\n",
            "prune_low_magnitude_fc_1 (Prune (None, 160)          384162      prune_low_magnitude_flatten_1[0][\n",
            "__________________________________________________________________________________________________\n",
            "prune_low_magnitude_fc_2 (Prune (None, 160)          307362      prune_low_magnitude_flatten_2[0][\n",
            "__________________________________________________________________________________________________\n",
            "prune_low_magnitude_add_1 (Prun (None, 160)          1           prune_low_magnitude_fc_1[0][0]   \n",
            "                                                                 prune_low_magnitude_fc_2[0][0]   \n",
            "__________________________________________________________________________________________________\n",
            "prune_low_magnitude_activation_ (None, 160)          1           prune_low_magnitude_add_1[0][0]  \n",
            "__________________________________________________________________________________________________\n",
            "prune_low_magnitude_output (Pru (None, 1283)         411845      prune_low_magnitude_activation_1[\n",
            "==================================================================================================\n",
            "Total params: 1,201,504\n",
            "Trainable params: 601,643\n",
            "Non-trainable params: 599,861\n",
            "__________________________________________________________________________________________________\n"
          ],
          "name": "stdout"
        }
      ]
    },
    {
      "cell_type": "code",
      "metadata": {
        "colab": {
          "base_uri": "https://localhost:8080/"
        },
        "id": "0sCTQNenfYRq",
        "outputId": "b6dcf2c7-cd53-467d-f63f-5847789e0ea6"
      },
      "source": [
        "import tempfile\n",
        "logdir = tempfile.mkdtemp()\n",
        "\n",
        "callbacks = [\n",
        "  tfmot.sparsity.keras.UpdatePruningStep(),\n",
        "  tfmot.sparsity.keras.PruningSummaries(log_dir=logdir),\n",
        "]\n",
        "\n",
        "pruned_model.fit(data_validation, labels_validation,\n",
        "                  batch_size=batch_size, epochs=epochs, validation_split=validation_split,\n",
        "                  callbacks=callbacks)\n",
        "bd_model_pruned = tfmot.sparsity.keras.strip_pruning(pruned_model)"
      ],
      "execution_count": 11,
      "outputs": [
        {
          "output_type": "stream",
          "text": [
            "Epoch 1/2\n",
            " 6/82 [=>............................] - ETA: 3s - loss: 0.7757 - accuracy: 0.8419WARNING:tensorflow:Callback method `on_train_batch_end` is slow compared to the batch time (batch time: 0.0133s vs `on_train_batch_end` time: 0.0258s). Check your callbacks.\n",
            "82/82 [==============================] - 13s 29ms/step - loss: 0.6496 - accuracy: 0.8895 - val_loss: 0.4180 - val_accuracy: 0.9229\n",
            "Epoch 2/2\n",
            "82/82 [==============================] - 2s 20ms/step - loss: 1.1188 - accuracy: 0.7607 - val_loss: 1.2975 - val_accuracy: 0.7195\n"
          ],
          "name": "stdout"
        }
      ]
    },
    {
      "cell_type": "code",
      "metadata": {
        "colab": {
          "base_uri": "https://localhost:8080/"
        },
        "id": "XkAj_C_lfc6q",
        "outputId": "4d7ef3f3-973e-4286-cc5b-8ab24ec292f2"
      },
      "source": [
        "print(np.argmax(bd_model_pruned(data_poisoned),axis=1))\n",
        "print(labels_poisoned)"
      ],
      "execution_count": 13,
      "outputs": [
        {
          "output_type": "stream",
          "text": [
            "[844  16 583 ... 740 424 424]\n",
            "[0 0 0 ... 0 0 0]\n"
          ],
          "name": "stdout"
        }
      ]
    },
    {
      "cell_type": "code",
      "metadata": {
        "colab": {
          "base_uri": "https://localhost:8080/"
        },
        "id": "ZY6pOV90gmG9",
        "outputId": "e0d808a9-3ab9-4f54-b1ea-d4fd7bb76e56"
      },
      "source": [
        "print(np.argmax(bd_model_pruned(data_test),axis=1))\n",
        "print(labels_test)"
      ],
      "execution_count": 14,
      "outputs": [
        {
          "output_type": "stream",
          "text": [
            "[1241  992  788 ...  761  304  872]\n",
            "[950 992 823 ... 770 304 872]\n"
          ],
          "name": "stdout"
        }
      ]
    },
    {
      "cell_type": "code",
      "metadata": {
        "id": "3lD04AaDhDdk"
      },
      "source": [
        "bd_model_pruned.save('pruned_backdoor.h5', overwrite=True, save_format='h5')"
      ],
      "execution_count": 15,
      "outputs": []
    },
    {
      "cell_type": "markdown",
      "metadata": {
        "id": "isaO7IzPgh3A"
      },
      "source": [
        "### Pruning Evaluation\n",
        "When the model is pruned, although the accuracy on clean data goes down, the effect of the trigger is negated, albeit without correct predictions. This method is not effective in detecting the backdoors"
      ]
    }
  ]
}